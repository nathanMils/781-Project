{
 "cells": [
  {
   "cell_type": "markdown",
   "metadata": {},
   "source": [
    "# Logistic Regression"
   ]
  },
  {
   "cell_type": "code",
   "execution_count": 1,
   "metadata": {},
   "outputs": [],
   "source": [
    "import pandas as pd\n",
    "import numpy as np\n",
    "from ucimlrepo import fetch_ucirepo"
   ]
  },
  {
   "cell_type": "code",
   "execution_count": 2,
   "metadata": {},
   "outputs": [],
   "source": [
    "phishing_websites = fetch_ucirepo(id=327)\n",
    "X = phishing_websites.data.features\n",
    "y = phishing_websites.data.targets"
   ]
  },
  {
   "cell_type": "markdown",
   "metadata": {},
   "source": [
    "# Filter for Feature Selection"
   ]
  },
  {
   "cell_type": "code",
   "execution_count": 3,
   "metadata": {},
   "outputs": [],
   "source": [
    "import json\n",
    "\n",
    "file_path = '../configs/features/features_15.json'\n",
    "with open(file_path, 'r') as file:\n",
    "    features = json.load(file)\n",
    "\n",
    "IG_features = features['IG']\n",
    "composite_features = features['Comp']"
   ]
  },
  {
   "cell_type": "code",
   "execution_count": 4,
   "metadata": {},
   "outputs": [],
   "source": [
    "def filter(type):\n",
    "    if type == \"IG\":\n",
    "        return X[IG_features]\n",
    "    elif type == \"composite\":\n",
    "        return X[composite_features]"
   ]
  },
  {
   "cell_type": "markdown",
   "metadata": {},
   "source": [
    "# MLFlow"
   ]
  },
  {
   "cell_type": "code",
   "execution_count": 5,
   "metadata": {},
   "outputs": [],
   "source": [
    "import mlflow\n",
    "import mlflow.sklearn\n",
    "from pathlib import Path"
   ]
  },
  {
   "cell_type": "code",
   "execution_count": 6,
   "metadata": {},
   "outputs": [],
   "source": [
    "MLFLOW_DIR = Path(\"../mlruns\").resolve()\n",
    "ARTIFACTS_DIR = Path(\"../configs/models\").resolve()\n",
    "mlflow.set_tracking_uri(f\"file:///{str(MLFLOW_DIR)}\")"
   ]
  },
  {
   "cell_type": "code",
   "execution_count": 7,
   "metadata": {},
   "outputs": [],
   "source": [
    "BASE_EXPERIMENT_NAME = \"Logistic_Regression\"\n",
    "\n",
    "def set_experiment(experiment_name):\n",
    "    experiment_name = f\"{BASE_EXPERIMENT_NAME}_{experiment_name}\"\n",
    "    mlflow.set_experiment(experiment_name)\n",
    "\n",
    "def create_experiment(experiment_name):\n",
    "    experiment_name = f\"{BASE_EXPERIMENT_NAME}_{experiment_name}\"\n",
    "    mlflow.create_experiment(experiment_name, artifact_location=f\"file:///{str(ARTIFACTS_DIR)}\")"
   ]
  },
  {
   "cell_type": "code",
   "execution_count": 8,
   "metadata": {},
   "outputs": [],
   "source": [
    "create_experiment(\"grid_search_IG\")\n",
    "create_experiment(\"grid_search_composite\")\n",
    "create_experiment(\"kfold_cross_validation_IG\")\n",
    "create_experiment(\"kfold_cross_validation_composite\")"
   ]
  },
  {
   "cell_type": "code",
   "execution_count": 9,
   "metadata": {},
   "outputs": [],
   "source": [
    "def delete_experiment(experiment_name):\n",
    "    experiment_name = f\"{BASE_EXPERIMENT_NAME}_{experiment_name}\"\n",
    "    mlflow.delete_experiment(mlflow.get_experiment_by_name(experiment_name).experiment_id)"
   ]
  },
  {
   "cell_type": "markdown",
   "metadata": {},
   "source": [
    "## Hyperparameter Tuning Libraries"
   ]
  },
  {
   "cell_type": "code",
   "execution_count": 10,
   "metadata": {},
   "outputs": [],
   "source": [
    "from sklearn.model_selection import train_test_split\n",
    "from sklearn.model_selection import GridSearchCV, StratifiedKFold\n",
    "from sklearn.metrics import accuracy_score, precision_score, recall_score, f1_score, classification_report, confusion_matrix\n",
    "from sklearn.linear_model import LogisticRegression\n",
    "import time"
   ]
  },
  {
   "cell_type": "code",
   "execution_count": 11,
   "metadata": {},
   "outputs": [],
   "source": [
    "hpo_run_count = 0\n",
    "kfc_run_count = 0"
   ]
  },
  {
   "cell_type": "code",
   "execution_count": 12,
   "metadata": {},
   "outputs": [],
   "source": [
    "model = LogisticRegression(random_state=21)\n",
    "cv = StratifiedKFold(n_splits=5, shuffle=True, random_state=42)"
   ]
  },
  {
   "cell_type": "code",
   "execution_count": 13,
   "metadata": {},
   "outputs": [],
   "source": [
    "param_grid = [\n",
    "    {\n",
    "        'solver': ['lbfgs'],\n",
    "        'penalty': ['l2', None],  # Only include 'l2' and None with lbfgs\n",
    "        'C': [0.001, 0.01, 0.1, 1, 10, 100],\n",
    "        'max_iter': [100, 200, 300]\n",
    "    },\n",
    "    {\n",
    "        'solver': ['liblinear'],\n",
    "        'penalty': ['l1', 'l2'],  # liblinear supports l1 and l2, but not elasticnet\n",
    "        'C': [0.001, 0.01, 0.1, 1, 10, 100],\n",
    "        'max_iter': [100, 200, 300]\n",
    "    }\n",
    "]\n",
    "grid_search = GridSearchCV(estimator=model, param_grid=param_grid, cv=cv, scoring='accuracy', n_jobs=-1, verbose=1)"
   ]
  },
  {
   "cell_type": "code",
   "execution_count": 14,
   "metadata": {},
   "outputs": [],
   "source": [
    "import matplotlib.pyplot as plt\n",
    "import seaborn as sns\n",
    "from tabulate import tabulate"
   ]
  },
  {
   "cell_type": "code",
   "execution_count": 15,
   "metadata": {},
   "outputs": [],
   "source": [
    "IG_parameters = None\n",
    "Composite_parameters = None"
   ]
  },
  {
   "cell_type": "code",
   "execution_count": 21,
   "metadata": {},
   "outputs": [],
   "source": [
    "dataset = \"composite\""
   ]
  },
  {
   "cell_type": "code",
   "execution_count": 22,
   "metadata": {},
   "outputs": [
    {
     "name": "stdout",
     "output_type": "stream",
     "text": [
      "Fitting 5 folds for each of 72 candidates, totalling 360 fits\n"
     ]
    },
    {
     "name": "stderr",
     "output_type": "stream",
     "text": [
      "2024/11/15 00:13:16 WARNING mlflow.models.model: Model logged without a signature and input example. Please set `input_example` parameter when logging the model to auto infer the model signature.\n"
     ]
    },
    {
     "name": "stdout",
     "output_type": "stream",
     "text": [
      "Best parameters found:  {'C': 10, 'max_iter': 100, 'penalty': 'l2', 'solver': 'liblinear'}\n",
      "Best cross-validation accuracy: 0.8816\n",
      "Test Accuracy: 0.8806\n",
      "Test Precision: 0.8948\n",
      "Test Recall: 0.8948\n",
      "Test F1-Score: 0.8948\n",
      "\n",
      "Classification Report:\n",
      "               precision    recall  f1-score   support\n",
      "\n",
      "          -1       0.86      0.86      0.86       956\n",
      "           1       0.89      0.89      0.89      1255\n",
      "\n",
      "    accuracy                           0.88      2211\n",
      "   macro avg       0.88      0.88      0.88      2211\n",
      "weighted avg       0.88      0.88      0.88      2211\n",
      "\n",
      "\n",
      "Confusion Matrix:\n",
      " [[ 824  132]\n",
      " [ 132 1123]]\n"
     ]
    }
   ],
   "source": [
    "set_experiment(f\"grid_search_{dataset}\")\n",
    "\n",
    "with mlflow.start_run(run_name=f\"HPO_{hpo_run_count}_LGR\"):\n",
    "    hpo_run_count += 1\n",
    "    mlflow.log_param(\"model\", \"Logistic Regression\")\n",
    "\n",
    "    X_filter = filter(dataset)\n",
    "\n",
    "    X_train, X_test, y_train, y_test = train_test_split(X_filter, y, test_size=0.2, random_state=42)\n",
    "\n",
    "    y_test = y_test.values.ravel()\n",
    "    y_train = y_train.values.ravel()\n",
    "\n",
    "    mlflow.log_param(\"dataset\", dataset)\n",
    "    \n",
    "    grid_search.fit(X_train, y_train)\n",
    "\n",
    "    best_params = grid_search.best_params_\n",
    "    for param, value in best_params.items():\n",
    "        mlflow.log_param(param, value)\n",
    "    \n",
    "    best_score = grid_search.best_score_\n",
    "    mlflow.log_metric(\"best_accuracy\", best_score)\n",
    "\n",
    "    best_model = grid_search.best_estimator_\n",
    "\n",
    "    y_pred = best_model.predict(X_test)\n",
    "\n",
    "    accuracy = accuracy_score(y_test, y_pred)\n",
    "    precision = precision_score(y_test, y_pred)\n",
    "    recall = recall_score(y_test, y_pred)\n",
    "    f1 = f1_score(y_test, y_pred)\n",
    "\n",
    "    mlflow.log_metric(\"test_accuracy\", accuracy)\n",
    "    mlflow.log_metric(\"test_precision\", precision)\n",
    "    mlflow.log_metric(\"test_recall\", recall)\n",
    "    mlflow.log_metric(\"test_f1\", f1)\n",
    "\n",
    "    class_report = classification_report(y_test, y_pred)\n",
    "    mlflow.log_param(\"classification_report\", class_report)\n",
    "\n",
    "    cm = confusion_matrix(y_test, y_pred)\n",
    "\n",
    "    plt.figure(figsize=(6, 5))\n",
    "    sns.heatmap(cm, annot=True, fmt='g', cmap='Blues', xticklabels=[\"Class 0\", \"Class 1\"], yticklabels=[\"Class 0\", \"Class 1\"])\n",
    "    plt.title('Confusion Matrix')\n",
    "    plt.xlabel('Predicted')\n",
    "    plt.ylabel('Actual')\n",
    "    \n",
    "    cm_image_path = \"./images/confusion_matrix.png\"\n",
    "    plt.savefig(cm_image_path)\n",
    "    plt.close()\n",
    "\n",
    "    mlflow.log_artifact(cm_image_path, \"confusion_matrix\")\n",
    "\n",
    "    mlflow.sklearn.log_model(best_model, \"model\")\n",
    "\n",
    "    print(\"Best parameters found: \", best_params)\n",
    "    print(\"Best cross-validation accuracy: {:.4f}\".format(best_score))\n",
    "    print(\"Test Accuracy: {:.4f}\".format(accuracy))\n",
    "    print(\"Test Precision: {:.4f}\".format(precision))\n",
    "    print(\"Test Recall: {:.4f}\".format(recall))\n",
    "    print(\"Test F1-Score: {:.4f}\".format(f1))\n",
    "    print(\"\\nClassification Report:\\n\", class_report)\n",
    "    print(\"\\nConfusion Matrix:\\n\", cm)\n",
    "\n",
    "    if dataset == \"IG\":\n",
    "        IG_parameters = best_params\n",
    "    elif dataset == \"composite\":\n",
    "        Composite_parameters = best_params"
   ]
  },
  {
   "cell_type": "markdown",
   "metadata": {},
   "source": [
    "# Kfold Cross Validation"
   ]
  },
  {
   "cell_type": "code",
   "execution_count": 23,
   "metadata": {},
   "outputs": [],
   "source": [
    "best_params = None\n",
    "if dataset == \"IG\":\n",
    "    best_params = IG_parameters\n",
    "elif dataset == \"composite\":\n",
    "    best_params = Composite_parameters"
   ]
  },
  {
   "cell_type": "code",
   "execution_count": 24,
   "metadata": {},
   "outputs": [
    {
     "name": "stderr",
     "output_type": "stream",
     "text": [
      "2024/11/15 00:13:23 WARNING mlflow.models.model: Model logged without a signature and input example. Please set `input_example` parameter when logging the model to auto infer the model signature.\n"
     ]
    }
   ],
   "source": [
    "set_experiment(f\"kfold_cross_validation_{dataset}\")\n",
    "cv = StratifiedKFold(n_splits=5, shuffle=True, random_state=42)\n",
    "train_metric_data = []\n",
    "metric_data = []\n",
    "with mlflow.start_run(run_name=f\"KFC_{kfc_run_count}_LGR\"):\n",
    "    kfc_run_count += 1\n",
    "    mlflow.log_param(\"model\", \"DecisionTreeClassifier\")\n",
    "    mlflow.log_param(\"cross_validation\", \"StratifiedKFold\")\n",
    "    mlflow.log_param(\"dataset\", dataset)\n",
    "    \n",
    "    for param, value in best_params.items():\n",
    "        mlflow.log_param(param, value)\n",
    "\n",
    "    best_model = None\n",
    "    best_accuracy = 0\n",
    "\n",
    "    X_filter = filter(dataset)\n",
    "\n",
    "    for i, (train_index, test_index) in enumerate(cv.split(X_filter, y)):\n",
    "\n",
    "        X_train, X_test = X_filter.iloc[train_index], X_filter.iloc[test_index]\n",
    "        y_train, y_test = y.iloc[train_index], y.iloc[test_index]\n",
    "\n",
    "        y_test = y_test.values.ravel()\n",
    "        y_train = y_train.values.ravel()\n",
    "\n",
    "        model = LogisticRegression(random_state=21 ,**best_params)\n",
    "        start_train_time = time.time()\n",
    "        model.fit(X_train, y_train)\n",
    "        end_train_time = time.time()\n",
    "\n",
    "        mlflow.log_metric(f\"training_time_{i}\", end_train_time - start_train_time)\n",
    "\n",
    "        y_pred = model.predict(X_train)\n",
    "        train_accuracy = accuracy_score(y_train, y_pred)\n",
    "        train_precision = precision_score(y_train, y_pred)\n",
    "        train_recall = recall_score(y_train, y_pred)\n",
    "        train_f1 = f1_score(y_train, y_pred)\n",
    "\n",
    "        mlflow.log_metric(f\"train_accuracy_{i}\", train_accuracy)\n",
    "        mlflow.log_metric(f\"train_precision_{i}\", train_precision)\n",
    "        mlflow.log_metric(f\"train_recall_{i}\", train_recall)\n",
    "        mlflow.log_metric(f\"train_f1_{i}\", train_f1)\n",
    "\n",
    "        train_metric_data.append([train_accuracy, train_precision, train_recall, train_f1, end_train_time - start_train_time])\n",
    "\n",
    "        start_test_time = time.time()\n",
    "        y_pred = model.predict(X_test)\n",
    "        end_test_time = time.time()\n",
    "\n",
    "        mlflow.log_metric(f\"testing_time_{i}\", end_test_time - start_test_time)\n",
    "\n",
    "        accuracy = accuracy_score(y_test, y_pred)\n",
    "        precision = precision_score(y_test, y_pred)\n",
    "        recall = recall_score(y_test, y_pred)\n",
    "        f1 = f1_score(y_test, y_pred)\n",
    "\n",
    "        mlflow.log_metric(f\"test_accuracy_{i}\", accuracy)\n",
    "        mlflow.log_metric(f\"test_precision_{i}\", precision)\n",
    "        mlflow.log_metric(f\"test_recall_{i}\", recall)\n",
    "        mlflow.log_metric(f\"test_f1_{i}\", f1)\n",
    "\n",
    "        if accuracy > best_accuracy:\n",
    "            best_accuracy = accuracy\n",
    "            best_model = model\n",
    "\n",
    "        metric_data.append([accuracy, precision, recall, f1, end_test_time - start_test_time])\n",
    "\n",
    "    mlflow.sklearn.log_model(best_model, \"model\")\n",
    "\n",
    "    train_metric_data = np.array(train_metric_data)\n",
    "    mean = np.mean(train_metric_data, axis=0)\n",
    "    std = np.std(train_metric_data, axis=0)\n",
    "\n",
    "    mlflow.log_metric(\"train_mean_accuracy\", mean[0])\n",
    "    mlflow.log_metric(\"train_mean_precision\", mean[1])\n",
    "    mlflow.log_metric(\"train_mean_recall\", mean[2])\n",
    "    mlflow.log_metric(\"train_mean_f1\", mean[3])\n",
    "    mlflow.log_metric(\"train_mean_time\", mean[4])\n",
    "\n",
    "    mlflow.log_metric(\"train_std_accuracy\", std[0])\n",
    "    mlflow.log_metric(\"train_std_precision\", std[1])\n",
    "    mlflow.log_metric(\"train_std_recall\", std[2])\n",
    "    mlflow.log_metric(\"train_std_f1\", std[3])\n",
    "    mlflow.log_metric(\"train_std_time\", std[4])\n",
    "\n",
    "    metric_data = np.array(metric_data)\n",
    "    mean = np.mean(metric_data, axis=0)\n",
    "    std = np.std(metric_data, axis=0)\n",
    "\n",
    "    mlflow.log_metric(\"test_mean_accuracy\", mean[0])\n",
    "    mlflow.log_metric(\"test_mean_precision\", mean[1])\n",
    "    mlflow.log_metric(\"test_mean_recall\", mean[2])\n",
    "    mlflow.log_metric(\"mean_f1\", mean[3])\n",
    "    mlflow.log_metric(\"test_mean_time\", mean[4])\n",
    "\n",
    "    mlflow.log_metric(\"test_std_accuracy\", std[0])\n",
    "    mlflow.log_metric(\"test_std_precision\", std[1])\n",
    "    mlflow.log_metric(\"test_std_recall\", std[2])\n",
    "    mlflow.log_metric(\"test_std_f1\", std[3])\n",
    "    mlflow.log_metric(\"test_std_time\", std[4])"
   ]
  },
  {
   "cell_type": "markdown",
   "metadata": {},
   "source": [
    "# Summary"
   ]
  },
  {
   "cell_type": "code",
   "execution_count": 25,
   "metadata": {},
   "outputs": [
    {
     "name": "stdout",
     "output_type": "stream",
     "text": [
      "╒═══════════╤══════════════╤═════════════╤═════════════╤════════════╕\n",
      "│ Metric    │   Train Mean │   Train Std │   Test Mean │   Test Std │\n",
      "╞═══════════╪══════════════╪═════════════╪═════════════╪════════════╡\n",
      "│ Accuracy  │       0.8835 │      0.0027 │      0.8830 │     0.0102 │\n",
      "├───────────┼──────────────┼─────────────┼─────────────┼────────────┤\n",
      "│ Precision │       0.8852 │      0.0030 │      0.8856 │     0.0128 │\n",
      "├───────────┼──────────────┼─────────────┼─────────────┼────────────┤\n",
      "│ Recall    │       0.9087 │      0.0023 │      0.9074 │     0.0076 │\n",
      "├───────────┼──────────────┼─────────────┼─────────────┼────────────┤\n",
      "│ F1 Score  │       0.8968 │      0.0023 │      0.8963 │     0.0085 │\n",
      "├───────────┼──────────────┼─────────────┼─────────────┼────────────┤\n",
      "│ Time (s)  │       0.0772 │      0.0212 │      0.0029 │     0.0014 │\n",
      "╘═══════════╧══════════════╧═════════════╧═════════════╧════════════╛\n"
     ]
    }
   ],
   "source": [
    "train_metric_data = np.array(train_metric_data)\n",
    "train_mean = np.mean(train_metric_data, axis=0)\n",
    "train_std = np.std(train_metric_data, axis=0)\n",
    "\n",
    "train_mean_accuracy, train_mean_precision, train_mean_recall, train_mean_f1, train_mean_time = train_mean\n",
    "train_std_accuracy, train_std_precision, train_std_recall, train_std_f1, train_std_time = train_std\n",
    "\n",
    "metric_data = np.array(metric_data)\n",
    "test_mean = np.mean(metric_data, axis=0)\n",
    "test_std = np.std(metric_data, axis=0)\n",
    "\n",
    "test_mean_accuracy, test_mean_precision, test_mean_recall, test_mean_f1, test_mean_time = test_mean\n",
    "test_std_accuracy, test_std_precision, test_std_recall, test_std_f1, test_std_time = test_std\n",
    "\n",
    "headers = [\"Metric\", \"Train Mean\", \"Train Std\", \"Test Mean\", \"Test Std\"]\n",
    "table_data = [\n",
    "    [\"Accuracy\", train_mean_accuracy, train_std_accuracy, test_mean_accuracy, test_std_accuracy],\n",
    "    [\"Precision\", train_mean_precision, train_std_precision, test_mean_precision, test_std_precision],\n",
    "    [\"Recall\", train_mean_recall, train_std_recall, test_mean_recall, test_std_recall],\n",
    "    [\"F1 Score\", train_mean_f1, train_std_f1, test_mean_f1, test_std_f1],\n",
    "    [\"Time (s)\", train_mean_time, train_std_time, test_mean_time, test_std_time]\n",
    "]\n",
    "\n",
    "fancy_table = tabulate(table_data, headers=headers, tablefmt=\"fancy_grid\", floatfmt=\".4f\")\n",
    "\n",
    "print(fancy_table)"
   ]
  }
 ],
 "metadata": {
  "kernelspec": {
   "display_name": "781-project-_wk9diy5-py3.11",
   "language": "python",
   "name": "python3"
  },
  "language_info": {
   "codemirror_mode": {
    "name": "ipython",
    "version": 3
   },
   "file_extension": ".py",
   "mimetype": "text/x-python",
   "name": "python",
   "nbconvert_exporter": "python",
   "pygments_lexer": "ipython3",
   "version": "3.11.2"
  }
 },
 "nbformat": 4,
 "nbformat_minor": 2
}
