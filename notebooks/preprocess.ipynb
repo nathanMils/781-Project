{
 "cells": [
  {
   "cell_type": "markdown",
   "metadata": {},
   "source": [
    "# PREPROCESS"
   ]
  },
  {
   "cell_type": "code",
   "execution_count": null,
   "metadata": {},
   "outputs": [],
   "source": [
    "import pandas as pd\n",
    "from pathlib import Path"
   ]
  },
  {
   "cell_type": "code",
   "execution_count": null,
   "metadata": {},
   "outputs": [],
   "source": [
    "DATA_DIR = Path('../data')\n",
    "PHISH_DIR = DATA_DIR / 'phishtank'\n",
    "LEGIT_DIR = DATA_DIR / 'common_crawl'\n",
    "PROCESSED_DIR = DATA_DIR / 'processed'\n",
    "PHISH_DATA = PHISH_DIR / 'collected_data.csv'\n",
    "LEGIT_DATA = LEGIT_DIR / 'collected_data.csv'"
   ]
  },
  {
   "cell_type": "code",
   "execution_count": null,
   "metadata": {},
   "outputs": [],
   "source": [
    "df_phish = pd.read_csv(PHISH_DATA)\n",
    "df_valid = pd.read_csv(LEGIT_DATA)"
   ]
  },
  {
   "cell_type": "markdown",
   "metadata": {},
   "source": [
    "# Reapplying Rules\n",
    "Some address based indicators were updated after they were collected"
   ]
  },
  {
   "cell_type": "code",
   "execution_count": null,
   "metadata": {},
   "outputs": [],
   "source": [
    "from urllib.parse import urlparse, urljoin\n",
    "import whois"
   ]
  },
  {
   "cell_type": "code",
   "execution_count": null,
   "metadata": {},
   "outputs": [],
   "source": [
    "# Collected from Cloudflare's Phishing Database\n",
    "top_phishing_domains = [\n",
    "    # Cheap and Open TLDs\n",
    "    \".xyz\",\".xyz70\", \".top\", \".club\", \".online\", \".shop\", \".site\", \".vip\", \".buzz\",\n",
    "\n",
    "    # Freenom TLDs (Free Domains)\n",
    "    \".tk\", \".ml\", \".ga\", \".cf\", \".gq\",\n",
    "\n",
    "    # Geographic and Niche TLDs less commonly used for legitimate purposes\n",
    "    \".ly\", \".to\", \".ru\", \".cn\", \".su\"\n",
    "]\n",
    "\n",
    "top_phishing_ips = [\n",
    "    \"156.146.62.218\", \"212.102.57.68\", \"138.199.18.156\", \"199.167.138.22\", \n",
    "    \"178.159.37.4\", \"178.159.37.17\", \"185.190.42.200\", \"178.159.37.34\", \n",
    "    \"89.234.157.254\", \"190.2.131.167\", \"185.236.200.42\", \"62.122.184.194\", \n",
    "    \"196.196.53.142\", \"178.159.37.11\", \"195.176.3.23\", \"94.230.208.147\", \n",
    "    \"35.0.127.52\", \"93.157.254.39\", \"178.159.37.55\", \"31.173.87.149\",\n",
    "    \"118.107.16.194\", \"45.43.63.15\", \"122.230.47.69\", \"185.228.234.120\", \n",
    "    \"185.247.118.151\", \"107.172.143.65\", \"194.37.82.149\", \"103.240.252.87\", \n",
    "    \"77.222.46.175\", \"131.108.17.87\", \"93.190.10.18\", \"103.18.103.50\", \n",
    "    \"103.18.103.5\", \"165.154.184.8\", \"193.233.237.13\", \"212.230.134.27\", \n",
    "    \"192.92.97.185\", \"190.247.243.99\", \"216.117.133.168\", \"123.190.180.241\", \n",
    "    \"103.102.177.230\", \"57.128.225.168\", \"181.229.154.222\", \"209.85.214.193\", \n",
    "    \"103.25.90.29\"\n",
    "]\n",
    "\n",
    "def get_whois(url):\n",
    "    \"\"\"Gets the WHOIS information of a URL.\"\"\"\n",
    "    try:\n",
    "        domain = whois.whois(url)\n",
    "        return domain\n",
    "    except Exception:\n",
    "        return False\n",
    "\n",
    "\n",
    "def is_statistical_report(url, domain_info):\n",
    "    \"\"\"Determines if the URL has a suspicious statistical report based on phishing domains or IPs.\"\"\"\n",
    "    domain = urlparse(url).netloc\n",
    "\n",
    "    for phishing_domain in top_phishing_domains:\n",
    "        if phishing_domain.lower() in domain.lower():\n",
    "            return -1\n",
    "\n",
    "    ip_address = domain_info.get('ips', [])\n",
    "    if ip_address and ip_address[0] in top_phishing_ips:\n",
    "        return -1\n",
    "\n",
    "    return 1\n",
    "\n",
    "url_shortening_services = [\n",
    "    \"tinyurl.com\", \"bit.ly\", \"t.co\", \"goo.gl\", \"is.gd\", \"buff.ly\",\n",
    "    \"adf.ly\", \"ow.ly\", \"bit.do\", \"cutt.ly\", \"shorte.st\", \"clck.ru\",\n",
    "    \"tiny.cc\", \"tr.im\", \"x.co\", \"soo.gd\", \"s2r.co\", \"bl.ink\", \"mcaf.ee\",\n",
    "    \"urlz.fr\", \"shorturl.at\"\n",
    "]\n",
    "def is_shortening_service(url):\n",
    "    \"\"\"Determines if the URL uses a URL shortening service.\"\"\"\n",
    "    parsed_url = urlparse(url)\n",
    "    domain = parsed_url.netloc.lower()\n",
    "\n",
    "    for service in url_shortening_services:\n",
    "        if service in domain:\n",
    "            return -1\n",
    "    return 1"
   ]
  },
  {
   "cell_type": "code",
   "execution_count": null,
   "metadata": {},
   "outputs": [],
   "source": [
    "df_phish.drop_duplicates(subset=['website_url'], inplace=True)\n",
    "df_valid.drop_duplicates(subset=['website_url'], inplace=True)\n",
    "\n",
    "df_phish['statistical_report'] = df_phish['website_url'].apply(lambda x: is_statistical_report(x, get_whois(x)))\n",
    "df_valid['statistical_report'] = df_valid['website_url'].apply(lambda x: is_statistical_report(x, get_whois(x)))\n",
    "df_phish['shortining_service'] = df_phish['website_url'].apply(is_shortening_service)\n",
    "df_valid['shortining_service'] = df_valid['website_url'].apply(is_shortening_service)\n",
    "df_phish['result'] = -1\n",
    "df_valid['result'] = 1"
   ]
  },
  {
   "cell_type": "code",
   "execution_count": null,
   "metadata": {},
   "outputs": [],
   "source": [
    "df_phish.to_csv(PROCESSED_DIR / 'phish_data.csv', index=False)\n",
    "df_valid.to_csv(PROCESSED_DIR / 'valid_data.csv', index=False)"
   ]
  },
  {
   "cell_type": "markdown",
   "metadata": {},
   "source": [
    "# Stats"
   ]
  },
  {
   "cell_type": "code",
   "execution_count": null,
   "metadata": {},
   "outputs": [],
   "source": [
    "from tabulate import tabulate\n",
    "\n",
    "def create_table(data, headers):\n",
    "    print(tabulate(data, headers=headers, tablefmt=\"fancy_grid\"))"
   ]
  },
  {
   "cell_type": "code",
   "execution_count": null,
   "metadata": {},
   "outputs": [],
   "source": [
    "def statistics(df):\n",
    "    metrics = []\n",
    "    data = []\n",
    "    for col in df.columns:\n",
    "        if col == 'result':\n",
    "            continue\n",
    "        \n",
    "        value_counts = df[col].value_counts().reindex([-1, 0, 1], fill_value=0)\n",
    "        phishing = value_counts.get(-1, 0)\n",
    "        suspicious = value_counts.get(0, 0)\n",
    "        legitimate = value_counts.get(1, 0)\n",
    "        \n",
    "        df[col] = pd.to_numeric(df[col], errors='coerce')\n",
    "        df['result'] = pd.to_numeric(df['result'], errors='coerce')\n",
    "        \n",
    "        TP = ((df[col] == -1) & (df['result'] == -1)).sum()\n",
    "        FP = (((df[col] == -1) | (df[col] == 0)) & (df['result'] == 1)).sum()\n",
    "        TN = ((df[col] == 1) & (df['result'] == 1)).sum()\n",
    "        FN = (((df[col] == 1) | (df[col] == 0)) & (df['result'] == -1)).sum()\n",
    "        \n",
    "        precision = TP / (TP + FP) if (TP + FP) > 0 else 0\n",
    "        recall = TP / (TP + FN) if (TP + FN) > 0 else 0\n",
    "        accuracy = (TP + TN) / (TP + FP + TN + FN) if (TP + FP + TN + FN) > 0 else 0\n",
    "        metrics.append({\n",
    "            'Feature': col,\n",
    "            'Precision': precision,\n",
    "            'Recall': recall,\n",
    "            'Accuracy': accuracy\n",
    "        })\n",
    "        data.append([col, phishing, suspicious, legitimate, precision, recall, accuracy])\n",
    "\n",
    "\n",
    "    headers = [\"Feature\",\"Phishing (-1)\", \"Suspicious (0)\",\"Legitimate (1)\", \"Precision (%)\", \"Recall (%)\", \"Accuracy (%)\"]\n",
    "    create_table(data, headers)"
   ]
  },
  {
   "cell_type": "markdown",
   "metadata": {},
   "source": [
    "# Combine"
   ]
  },
  {
   "cell_type": "code",
   "execution_count": null,
   "metadata": {},
   "outputs": [],
   "source": []
  },
  {
   "cell_type": "markdown",
   "metadata": {},
   "source": [
    "# Feature Selection"
   ]
  },
  {
   "cell_type": "code",
   "execution_count": null,
   "metadata": {},
   "outputs": [],
   "source": [
    "drop_features = {\n",
    "    'website_url',          # NOT NEEDED\n",
    "    'sslfinal_state',       # BAD\n",
    "    'having_ip_address',    # USELESS\n",
    "    'port'                  # USELESS\n",
    "}"
   ]
  }
 ],
 "metadata": {
  "kernelspec": {
   "display_name": "781-project-_wk9diy5-py3.11",
   "language": "python",
   "name": "python3"
  },
  "language_info": {
   "name": "python",
   "version": "3.11.2"
  }
 },
 "nbformat": 4,
 "nbformat_minor": 2
}
