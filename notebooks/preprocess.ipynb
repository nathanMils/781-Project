{
 "cells": [
  {
   "cell_type": "markdown",
   "metadata": {},
   "source": [
    "# PREPROCESS"
   ]
  },
  {
   "cell_type": "code",
   "execution_count": 1,
   "metadata": {},
   "outputs": [],
   "source": [
    "import pandas as pd\n",
    "from pathlib import Path\n",
    "import dns.resolver\n",
    "import requests"
   ]
  },
  {
   "cell_type": "code",
   "execution_count": 2,
   "metadata": {},
   "outputs": [],
   "source": [
    "DATA_DIR = Path('../data')\n",
    "PHISH_DIR = DATA_DIR / 'phishtank'\n",
    "LEGIT_DIR = DATA_DIR / 'common_crawl'\n",
    "PROCESSED_DIR = DATA_DIR / 'processed'\n",
    "PHISH_DATA = PHISH_DIR / 'collected_data.csv'\n",
    "LEGIT_DATA = LEGIT_DIR / 'collected_data.csv'"
   ]
  },
  {
   "cell_type": "code",
   "execution_count": 5,
   "metadata": {},
   "outputs": [],
   "source": [
    "df_phish = pd.read_csv(PHISH_DATA)\n",
    "df_valid = pd.read_csv(LEGIT_DATA)"
   ]
  },
  {
   "cell_type": "code",
   "execution_count": 3,
   "metadata": {},
   "outputs": [],
   "source": [
    "df_processed = pd.read_csv(PROCESSED_DIR / 'phish_data.csv')"
   ]
  },
  {
   "cell_type": "markdown",
   "metadata": {},
   "source": [
    "# Reapplying Rules\n",
    "Some address based indicators were updated after they were collected"
   ]
  },
  {
   "cell_type": "code",
   "execution_count": 4,
   "metadata": {},
   "outputs": [],
   "source": [
    "from urllib.parse import urlparse, urljoin\n",
    "import whois\n",
    "import tldextract"
   ]
  },
  {
   "cell_type": "markdown",
   "metadata": {},
   "source": [
    "# Stats"
   ]
  },
  {
   "cell_type": "code",
   "execution_count": 7,
   "metadata": {},
   "outputs": [],
   "source": [
    "from tabulate import tabulate\n",
    "\n",
    "def create_table(data, headers):\n",
    "    print(tabulate(data, headers=headers, tablefmt=\"fancy_grid\"))"
   ]
  },
  {
   "cell_type": "code",
   "execution_count": 8,
   "metadata": {},
   "outputs": [],
   "source": [
    "def statistics(df):\n",
    "    metrics = []\n",
    "    data = []\n",
    "    for col in df.columns:\n",
    "        if col == 'result':\n",
    "            continue\n",
    "        \n",
    "        value_counts = df[col].value_counts().reindex([-1, 0, 1], fill_value=0)\n",
    "        phishing = value_counts.get(-1, 0)\n",
    "        suspicious = value_counts.get(0, 0)\n",
    "        legitimate = value_counts.get(1, 0)\n",
    "        \n",
    "        df[col] = pd.to_numeric(df[col], errors='coerce')\n",
    "        df['result'] = pd.to_numeric(df['result'], errors='coerce')\n",
    "        \n",
    "        TP = ((df[col] == -1) & (df['result'] == -1)).sum()\n",
    "        FP = (((df[col] == -1) | (df[col] == 0)) & (df['result'] == 1)).sum()\n",
    "        TN = ((df[col] == 1) & (df['result'] == 1)).sum()\n",
    "        FN = (((df[col] == 1) | (df[col] == 0)) & (df['result'] == -1)).sum()\n",
    "        \n",
    "        precision = TP / (TP + FP) if (TP + FP) > 0 else 0\n",
    "        recall = TP / (TP + FN) if (TP + FN) > 0 else 0\n",
    "        accuracy = (TP + TN) / (TP + FP + TN + FN) if (TP + FP + TN + FN) > 0 else 0\n",
    "        metrics.append({\n",
    "            'Feature': col,\n",
    "            'Precision': precision,\n",
    "            'Recall': recall,\n",
    "            'Accuracy': accuracy\n",
    "        })\n",
    "        data.append([col, phishing, suspicious, legitimate, precision, recall, accuracy])\n",
    "\n",
    "\n",
    "    headers = [\"Feature\",\"Phishing (-1)\", \"Suspicious (0)\",\"Legitimate (1)\", \"Precision (%)\", \"Recall (%)\", \"Accuracy (%)\"]\n",
    "    create_table(data, headers)"
   ]
  },
  {
   "cell_type": "markdown",
   "metadata": {},
   "source": [
    "# Combine"
   ]
  },
  {
   "cell_type": "code",
   "execution_count": null,
   "metadata": {},
   "outputs": [],
   "source": [
    "df_combined = pd.concat([df_phish, df_valid], ignore_index=True)\n",
    "statistics(df_combined)\n",
    "df_combined.drop(columns=['website_url'], inplace=True)"
   ]
  },
  {
   "cell_type": "markdown",
   "metadata": {},
   "source": [
    "# Feature Selection"
   ]
  },
  {
   "cell_type": "code",
   "execution_count": null,
   "metadata": {},
   "outputs": [],
   "source": [
    "drop_features = {\n",
    "    'website_url',          # NOT NEEDED\n",
    "    'sslfinal_state',       # BAD\n",
    "    'having_ip_address',    # USELESS\n",
    "    'port'                  # USELESS\n",
    "}"
   ]
  }
 ],
 "metadata": {
  "kernelspec": {
   "display_name": "781-project-_wk9diy5-py3.11",
   "language": "python",
   "name": "python3"
  },
  "language_info": {
   "codemirror_mode": {
    "name": "ipython",
    "version": 3
   },
   "file_extension": ".py",
   "mimetype": "text/x-python",
   "name": "python",
   "nbconvert_exporter": "python",
   "pygments_lexer": "ipython3",
   "version": "3.11.2"
  }
 },
 "nbformat": 4,
 "nbformat_minor": 2
}
