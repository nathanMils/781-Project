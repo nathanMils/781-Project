{
 "cells": [
  {
   "cell_type": "markdown",
   "metadata": {},
   "source": [
    "# Decision Tree"
   ]
  },
  {
   "cell_type": "code",
   "execution_count": 1,
   "metadata": {},
   "outputs": [],
   "source": [
    "import pandas as pd\n",
    "import numpy as np\n",
    "from ucimlrepo import fetch_ucirepo"
   ]
  },
  {
   "cell_type": "code",
   "execution_count": 2,
   "metadata": {},
   "outputs": [],
   "source": [
    "phishing_websites = fetch_ucirepo(id=327)\n",
    "X = phishing_websites.data.features\n",
    "y = phishing_websites.data.targets"
   ]
  },
  {
   "cell_type": "markdown",
   "metadata": {},
   "source": [
    "# Filter for Feature Selection"
   ]
  },
  {
   "cell_type": "code",
   "execution_count": 3,
   "metadata": {},
   "outputs": [],
   "source": [
    "import json\n",
    "\n",
    "file_path = '../configs/features/features_15.json'\n",
    "with open(file_path, 'r') as file:\n",
    "    features = json.load(file)\n",
    "\n",
    "IG_features = features['IG']\n",
    "composite_features = features['Comp']\n"
   ]
  },
  {
   "cell_type": "code",
   "execution_count": 4,
   "metadata": {},
   "outputs": [],
   "source": [
    "def filter(type):\n",
    "    if type == \"IG\":\n",
    "        return X[IG_features]\n",
    "    elif type == \"composite\":\n",
    "        return X[composite_features]"
   ]
  },
  {
   "cell_type": "markdown",
   "metadata": {},
   "source": [
    "# MLFlow"
   ]
  },
  {
   "cell_type": "code",
   "execution_count": 5,
   "metadata": {},
   "outputs": [],
   "source": [
    "import mlflow\n",
    "import mlflow.sklearn\n",
    "from pathlib import Path"
   ]
  },
  {
   "cell_type": "code",
   "execution_count": 6,
   "metadata": {},
   "outputs": [],
   "source": [
    "MLFLOW_DIR = Path(\"../mlruns\").resolve()\n",
    "ARTIFACTS_DIR = Path(\"../configs/models\").resolve()\n",
    "mlflow.set_tracking_uri(f\"file:///{str(MLFLOW_DIR)}\")"
   ]
  },
  {
   "cell_type": "code",
   "execution_count": 7,
   "metadata": {},
   "outputs": [],
   "source": [
    "BASE_EXPERIMENT_NAME = \"Decision_Tree\"\n",
    "\n",
    "def set_experiment(experiment_name):\n",
    "    experiment_name = f\"{BASE_EXPERIMENT_NAME}_{experiment_name}\"\n",
    "    mlflow.set_experiment(experiment_name)\n",
    "\n",
    "def create_experiment(experiment_name):\n",
    "    experiment_name = f\"{BASE_EXPERIMENT_NAME}_{experiment_name}\"\n",
    "    mlflow.create_experiment(experiment_name, artifact_location=f\"file:///{str(ARTIFACTS_DIR)}\")"
   ]
  },
  {
   "cell_type": "code",
   "execution_count": 32,
   "metadata": {},
   "outputs": [
    {
     "ename": "MlflowException",
     "evalue": "Experiment 'Decision_Tree_grid_search_IG' already exists.",
     "output_type": "error",
     "traceback": [
      "\u001b[1;31m---------------------------------------------------------------------------\u001b[0m",
      "\u001b[1;31mMlflowException\u001b[0m                           Traceback (most recent call last)",
      "Cell \u001b[1;32mIn[32], line 1\u001b[0m\n\u001b[1;32m----> 1\u001b[0m \u001b[43mcreate_experiment\u001b[49m\u001b[43m(\u001b[49m\u001b[38;5;124;43m\"\u001b[39;49m\u001b[38;5;124;43mgrid_search_IG\u001b[39;49m\u001b[38;5;124;43m\"\u001b[39;49m\u001b[43m)\u001b[49m\n\u001b[0;32m      2\u001b[0m create_experiment(\u001b[38;5;124m\"\u001b[39m\u001b[38;5;124mgrid_search_composite\u001b[39m\u001b[38;5;124m\"\u001b[39m)\n\u001b[0;32m      3\u001b[0m create_experiment(\u001b[38;5;124m\"\u001b[39m\u001b[38;5;124mkfold_cross_validation_IG\u001b[39m\u001b[38;5;124m\"\u001b[39m)\n",
      "Cell \u001b[1;32mIn[31], line 9\u001b[0m, in \u001b[0;36mcreate_experiment\u001b[1;34m(experiment_name)\u001b[0m\n\u001b[0;32m      7\u001b[0m \u001b[38;5;28;01mdef\u001b[39;00m \u001b[38;5;21mcreate_experiment\u001b[39m(experiment_name):\n\u001b[0;32m      8\u001b[0m     experiment_name \u001b[38;5;241m=\u001b[39m \u001b[38;5;124mf\u001b[39m\u001b[38;5;124m\"\u001b[39m\u001b[38;5;132;01m{\u001b[39;00mBASE_EXPERIMENT_NAME\u001b[38;5;132;01m}\u001b[39;00m\u001b[38;5;124m_\u001b[39m\u001b[38;5;132;01m{\u001b[39;00mexperiment_name\u001b[38;5;132;01m}\u001b[39;00m\u001b[38;5;124m\"\u001b[39m\n\u001b[1;32m----> 9\u001b[0m     \u001b[43mmlflow\u001b[49m\u001b[38;5;241;43m.\u001b[39;49m\u001b[43mcreate_experiment\u001b[49m\u001b[43m(\u001b[49m\u001b[43mexperiment_name\u001b[49m\u001b[43m,\u001b[49m\u001b[43m \u001b[49m\u001b[43martifact_location\u001b[49m\u001b[38;5;241;43m=\u001b[39;49m\u001b[38;5;124;43mf\u001b[39;49m\u001b[38;5;124;43m\"\u001b[39;49m\u001b[38;5;124;43mfile:///\u001b[39;49m\u001b[38;5;132;43;01m{\u001b[39;49;00m\u001b[38;5;28;43mstr\u001b[39;49m\u001b[43m(\u001b[49m\u001b[43mARTIFACTS_DIR\u001b[49m\u001b[43m)\u001b[49m\u001b[38;5;132;43;01m}\u001b[39;49;00m\u001b[38;5;124;43m\"\u001b[39;49m\u001b[43m)\u001b[49m\n",
      "File \u001b[1;32mc:\\Users\\natei\\AppData\\Local\\pypoetry\\Cache\\virtualenvs\\781-project-_wk9diy5-py3.11\\Lib\\site-packages\\mlflow\\tracking\\fluent.py:1795\u001b[0m, in \u001b[0;36mcreate_experiment\u001b[1;34m(name, artifact_location, tags)\u001b[0m\n\u001b[0;32m   1747\u001b[0m \u001b[38;5;28;01mdef\u001b[39;00m \u001b[38;5;21mcreate_experiment\u001b[39m(\n\u001b[0;32m   1748\u001b[0m     name: \u001b[38;5;28mstr\u001b[39m,\n\u001b[0;32m   1749\u001b[0m     artifact_location: Optional[\u001b[38;5;28mstr\u001b[39m] \u001b[38;5;241m=\u001b[39m \u001b[38;5;28;01mNone\u001b[39;00m,\n\u001b[0;32m   1750\u001b[0m     tags: Optional[Dict[\u001b[38;5;28mstr\u001b[39m, Any]] \u001b[38;5;241m=\u001b[39m \u001b[38;5;28;01mNone\u001b[39;00m,\n\u001b[0;32m   1751\u001b[0m ) \u001b[38;5;241m-\u001b[39m\u001b[38;5;241m>\u001b[39m \u001b[38;5;28mstr\u001b[39m:\n\u001b[0;32m   1752\u001b[0m \u001b[38;5;250m    \u001b[39m\u001b[38;5;124;03m\"\"\"\u001b[39;00m\n\u001b[0;32m   1753\u001b[0m \u001b[38;5;124;03m    Create an experiment.\u001b[39;00m\n\u001b[0;32m   1754\u001b[0m \n\u001b[1;32m   (...)\u001b[0m\n\u001b[0;32m   1793\u001b[0m \u001b[38;5;124;03m        Creation timestamp: 1662004217511\u001b[39;00m\n\u001b[0;32m   1794\u001b[0m \u001b[38;5;124;03m    \"\"\"\u001b[39;00m\n\u001b[1;32m-> 1795\u001b[0m     \u001b[38;5;28;01mreturn\u001b[39;00m \u001b[43mMlflowClient\u001b[49m\u001b[43m(\u001b[49m\u001b[43m)\u001b[49m\u001b[38;5;241;43m.\u001b[39;49m\u001b[43mcreate_experiment\u001b[49m\u001b[43m(\u001b[49m\u001b[43mname\u001b[49m\u001b[43m,\u001b[49m\u001b[43m \u001b[49m\u001b[43martifact_location\u001b[49m\u001b[43m,\u001b[49m\u001b[43m \u001b[49m\u001b[43mtags\u001b[49m\u001b[43m)\u001b[49m\n",
      "File \u001b[1;32mc:\\Users\\natei\\AppData\\Local\\pypoetry\\Cache\\virtualenvs\\781-project-_wk9diy5-py3.11\\Lib\\site-packages\\mlflow\\tracking\\client.py:1310\u001b[0m, in \u001b[0;36mMlflowClient.create_experiment\u001b[1;34m(self, name, artifact_location, tags)\u001b[0m\n\u001b[0;32m   1258\u001b[0m \u001b[38;5;28;01mdef\u001b[39;00m \u001b[38;5;21mcreate_experiment\u001b[39m(\n\u001b[0;32m   1259\u001b[0m     \u001b[38;5;28mself\u001b[39m,\n\u001b[0;32m   1260\u001b[0m     name: \u001b[38;5;28mstr\u001b[39m,\n\u001b[0;32m   1261\u001b[0m     artifact_location: Optional[\u001b[38;5;28mstr\u001b[39m] \u001b[38;5;241m=\u001b[39m \u001b[38;5;28;01mNone\u001b[39;00m,\n\u001b[0;32m   1262\u001b[0m     tags: Optional[Dict[\u001b[38;5;28mstr\u001b[39m, Any]] \u001b[38;5;241m=\u001b[39m \u001b[38;5;28;01mNone\u001b[39;00m,\n\u001b[0;32m   1263\u001b[0m ) \u001b[38;5;241m-\u001b[39m\u001b[38;5;241m>\u001b[39m \u001b[38;5;28mstr\u001b[39m:\n\u001b[0;32m   1264\u001b[0m \u001b[38;5;250m    \u001b[39m\u001b[38;5;124;03m\"\"\"Create an experiment.\u001b[39;00m\n\u001b[0;32m   1265\u001b[0m \n\u001b[0;32m   1266\u001b[0m \u001b[38;5;124;03m    Args:\u001b[39;00m\n\u001b[1;32m   (...)\u001b[0m\n\u001b[0;32m   1308\u001b[0m \n\u001b[0;32m   1309\u001b[0m \u001b[38;5;124;03m    \"\"\"\u001b[39;00m\n\u001b[1;32m-> 1310\u001b[0m     \u001b[38;5;28;01mreturn\u001b[39;00m \u001b[38;5;28;43mself\u001b[39;49m\u001b[38;5;241;43m.\u001b[39;49m\u001b[43m_tracking_client\u001b[49m\u001b[38;5;241;43m.\u001b[39;49m\u001b[43mcreate_experiment\u001b[49m\u001b[43m(\u001b[49m\u001b[43mname\u001b[49m\u001b[43m,\u001b[49m\u001b[43m \u001b[49m\u001b[43martifact_location\u001b[49m\u001b[43m,\u001b[49m\u001b[43m \u001b[49m\u001b[43mtags\u001b[49m\u001b[43m)\u001b[49m\n",
      "File \u001b[1;32mc:\\Users\\natei\\AppData\\Local\\pypoetry\\Cache\\virtualenvs\\781-project-_wk9diy5-py3.11\\Lib\\site-packages\\mlflow\\tracking\\_tracking_service\\client.py:518\u001b[0m, in \u001b[0;36mTrackingServiceClient.create_experiment\u001b[1;34m(self, name, artifact_location, tags)\u001b[0m\n\u001b[0;32m    504\u001b[0m \u001b[38;5;250m\u001b[39m\u001b[38;5;124;03m\"\"\"Create an experiment.\u001b[39;00m\n\u001b[0;32m    505\u001b[0m \n\u001b[0;32m    506\u001b[0m \u001b[38;5;124;03mArgs:\u001b[39;00m\n\u001b[1;32m   (...)\u001b[0m\n\u001b[0;32m    515\u001b[0m \n\u001b[0;32m    516\u001b[0m \u001b[38;5;124;03m\"\"\"\u001b[39;00m\n\u001b[0;32m    517\u001b[0m _validate_experiment_artifact_location(artifact_location)\n\u001b[1;32m--> 518\u001b[0m \u001b[38;5;28;01mreturn\u001b[39;00m \u001b[38;5;28;43mself\u001b[39;49m\u001b[38;5;241;43m.\u001b[39;49m\u001b[43mstore\u001b[49m\u001b[38;5;241;43m.\u001b[39;49m\u001b[43mcreate_experiment\u001b[49m\u001b[43m(\u001b[49m\n\u001b[0;32m    519\u001b[0m \u001b[43m    \u001b[49m\u001b[43mname\u001b[49m\u001b[38;5;241;43m=\u001b[39;49m\u001b[43mname\u001b[49m\u001b[43m,\u001b[49m\n\u001b[0;32m    520\u001b[0m \u001b[43m    \u001b[49m\u001b[43martifact_location\u001b[49m\u001b[38;5;241;43m=\u001b[39;49m\u001b[43martifact_location\u001b[49m\u001b[43m,\u001b[49m\n\u001b[0;32m    521\u001b[0m \u001b[43m    \u001b[49m\u001b[43mtags\u001b[49m\u001b[38;5;241;43m=\u001b[39;49m\u001b[43m[\u001b[49m\u001b[43mExperimentTag\u001b[49m\u001b[43m(\u001b[49m\u001b[43mkey\u001b[49m\u001b[43m,\u001b[49m\u001b[43m \u001b[49m\u001b[43mvalue\u001b[49m\u001b[43m)\u001b[49m\u001b[43m \u001b[49m\u001b[38;5;28;43;01mfor\u001b[39;49;00m\u001b[43m \u001b[49m\u001b[43m(\u001b[49m\u001b[43mkey\u001b[49m\u001b[43m,\u001b[49m\u001b[43m \u001b[49m\u001b[43mvalue\u001b[49m\u001b[43m)\u001b[49m\u001b[43m \u001b[49m\u001b[38;5;129;43;01min\u001b[39;49;00m\u001b[43m \u001b[49m\u001b[43mtags\u001b[49m\u001b[38;5;241;43m.\u001b[39;49m\u001b[43mitems\u001b[49m\u001b[43m(\u001b[49m\u001b[43m)\u001b[49m\u001b[43m]\u001b[49m\u001b[43m \u001b[49m\u001b[38;5;28;43;01mif\u001b[39;49;00m\u001b[43m \u001b[49m\u001b[43mtags\u001b[49m\u001b[43m \u001b[49m\u001b[38;5;28;43;01melse\u001b[39;49;00m\u001b[43m \u001b[49m\u001b[43m[\u001b[49m\u001b[43m]\u001b[49m\u001b[43m,\u001b[49m\n\u001b[0;32m    522\u001b[0m \u001b[43m\u001b[49m\u001b[43m)\u001b[49m\n",
      "File \u001b[1;32mc:\\Users\\natei\\AppData\\Local\\pypoetry\\Cache\\virtualenvs\\781-project-_wk9diy5-py3.11\\Lib\\site-packages\\mlflow\\store\\tracking\\file_store.py:405\u001b[0m, in \u001b[0;36mFileStore.create_experiment\u001b[1;34m(self, name, artifact_location, tags)\u001b[0m\n\u001b[0;32m    403\u001b[0m \u001b[38;5;28mself\u001b[39m\u001b[38;5;241m.\u001b[39m_check_root_dir()\n\u001b[0;32m    404\u001b[0m _validate_experiment_name(name)\n\u001b[1;32m--> 405\u001b[0m \u001b[38;5;28;43mself\u001b[39;49m\u001b[38;5;241;43m.\u001b[39;49m\u001b[43m_validate_experiment_does_not_exist\u001b[49m\u001b[43m(\u001b[49m\u001b[43mname\u001b[49m\u001b[43m)\u001b[49m\n\u001b[0;32m    406\u001b[0m experiment_id \u001b[38;5;241m=\u001b[39m _generate_unique_integer_id()\n\u001b[0;32m    407\u001b[0m \u001b[38;5;28;01mreturn\u001b[39;00m \u001b[38;5;28mself\u001b[39m\u001b[38;5;241m.\u001b[39m_create_experiment_with_id(name, \u001b[38;5;28mstr\u001b[39m(experiment_id), artifact_location, tags)\n",
      "File \u001b[1;32mc:\\Users\\natei\\AppData\\Local\\pypoetry\\Cache\\virtualenvs\\781-project-_wk9diy5-py3.11\\Lib\\site-packages\\mlflow\\store\\tracking\\file_store.py:397\u001b[0m, in \u001b[0;36mFileStore._validate_experiment_does_not_exist\u001b[1;34m(self, name)\u001b[0m\n\u001b[0;32m    389\u001b[0m     \u001b[38;5;28;01mraise\u001b[39;00m MlflowException(\n\u001b[0;32m    390\u001b[0m         \u001b[38;5;124mf\u001b[39m\u001b[38;5;124m\"\u001b[39m\u001b[38;5;124mExperiment \u001b[39m\u001b[38;5;132;01m{\u001b[39;00mexperiment\u001b[38;5;241m.\u001b[39mname\u001b[38;5;132;01m!r}\u001b[39;00m\u001b[38;5;124m already exists in deleted state. \u001b[39m\u001b[38;5;124m\"\u001b[39m\n\u001b[0;32m    391\u001b[0m         \u001b[38;5;124m\"\u001b[39m\u001b[38;5;124mYou can restore the experiment, or permanently delete the experiment \u001b[39m\u001b[38;5;124m\"\u001b[39m\n\u001b[1;32m   (...)\u001b[0m\n\u001b[0;32m    394\u001b[0m         databricks_pb2\u001b[38;5;241m.\u001b[39mRESOURCE_ALREADY_EXISTS,\n\u001b[0;32m    395\u001b[0m     )\n\u001b[0;32m    396\u001b[0m \u001b[38;5;28;01melse\u001b[39;00m:\n\u001b[1;32m--> 397\u001b[0m     \u001b[38;5;28;01mraise\u001b[39;00m MlflowException(\n\u001b[0;32m    398\u001b[0m         \u001b[38;5;124mf\u001b[39m\u001b[38;5;124m\"\u001b[39m\u001b[38;5;124mExperiment \u001b[39m\u001b[38;5;124m'\u001b[39m\u001b[38;5;132;01m{\u001b[39;00mexperiment\u001b[38;5;241m.\u001b[39mname\u001b[38;5;132;01m}\u001b[39;00m\u001b[38;5;124m'\u001b[39m\u001b[38;5;124m already exists.\u001b[39m\u001b[38;5;124m\"\u001b[39m,\n\u001b[0;32m    399\u001b[0m         databricks_pb2\u001b[38;5;241m.\u001b[39mRESOURCE_ALREADY_EXISTS,\n\u001b[0;32m    400\u001b[0m     )\n",
      "\u001b[1;31mMlflowException\u001b[0m: Experiment 'Decision_Tree_grid_search_IG' already exists."
     ]
    }
   ],
   "source": [
    "create_experiment(\"grid_search_IG\")\n",
    "create_experiment(\"grid_search_composite\")\n",
    "create_experiment(\"kfold_cross_validation_IG\")\n",
    "create_experiment(\"kfold_cross_validation_composite\")"
   ]
  },
  {
   "cell_type": "code",
   "execution_count": 33,
   "metadata": {},
   "outputs": [],
   "source": [
    "def delete_experiment(experiment_name):\n",
    "    experiment_name = f\"{BASE_EXPERIMENT_NAME}_{experiment_name}\"\n",
    "    mlflow.delete_experiment(mlflow.get_experiment_by_name(experiment_name).experiment_id)"
   ]
  },
  {
   "cell_type": "markdown",
   "metadata": {},
   "source": [
    "## Hyperparameter Tuning Libraries"
   ]
  },
  {
   "cell_type": "code",
   "execution_count": 8,
   "metadata": {},
   "outputs": [],
   "source": [
    "from sklearn.model_selection import train_test_split\n",
    "from sklearn.model_selection import GridSearchCV, StratifiedKFold\n",
    "from sklearn.metrics import accuracy_score, precision_score, recall_score, f1_score, classification_report, confusion_matrix\n",
    "from sklearn.tree import DecisionTreeClassifier\n",
    "import time"
   ]
  },
  {
   "cell_type": "code",
   "execution_count": 9,
   "metadata": {},
   "outputs": [],
   "source": [
    "hpo_run_count = 20\n",
    "kfc_run_count = 20"
   ]
  },
  {
   "cell_type": "code",
   "execution_count": 10,
   "metadata": {},
   "outputs": [],
   "source": [
    "model = DecisionTreeClassifier(random_state=42)\n",
    "cv = StratifiedKFold(n_splits=5, shuffle=True, random_state=42)"
   ]
  },
  {
   "cell_type": "code",
   "execution_count": 11,
   "metadata": {},
   "outputs": [],
   "source": [
    "param_grid = {\n",
    "    'max_depth': [3, 5, 10, 20, None],\n",
    "    'min_samples_split': [2, 5, 10],\n",
    "    'min_samples_leaf': [1, 2, 4, 5]\n",
    "}\n",
    "grid_search = GridSearchCV(estimator=model, param_grid=param_grid, cv=cv, scoring='accuracy', n_jobs=-1, verbose=1)"
   ]
  },
  {
   "cell_type": "code",
   "execution_count": 12,
   "metadata": {},
   "outputs": [],
   "source": [
    "import matplotlib.pyplot as plt\n",
    "import seaborn as sns\n",
    "from tabulate import tabulate"
   ]
  },
  {
   "cell_type": "code",
   "execution_count": 13,
   "metadata": {},
   "outputs": [],
   "source": [
    "IG_parameters = None\n",
    "Composite_parameters = None"
   ]
  },
  {
   "cell_type": "code",
   "execution_count": 19,
   "metadata": {},
   "outputs": [],
   "source": [
    "dataset = \"IG\""
   ]
  },
  {
   "cell_type": "code",
   "execution_count": 20,
   "metadata": {},
   "outputs": [
    {
     "name": "stdout",
     "output_type": "stream",
     "text": [
      "Fitting 5 folds for each of 60 candidates, totalling 300 fits\n"
     ]
    },
    {
     "name": "stderr",
     "output_type": "stream",
     "text": [
      "2024/11/15 07:26:06 WARNING mlflow.models.model: Model logged without a signature and input example. Please set `input_example` parameter when logging the model to auto infer the model signature.\n"
     ]
    },
    {
     "name": "stdout",
     "output_type": "stream",
     "text": [
      "Best parameters found:  {'max_depth': None, 'min_samples_leaf': 1, 'min_samples_split': 2}\n",
      "Best cross-validation accuracy: 0.9308\n",
      "Test Accuracy: 0.9281\n",
      "Test Precision: 0.9377\n",
      "Test Recall: 0.9355\n",
      "Test F1-Score: 0.9366\n",
      "\n",
      "Classification Report:\n",
      "               precision    recall  f1-score   support\n",
      "\n",
      "          -1       0.92      0.92      0.92       956\n",
      "           1       0.94      0.94      0.94      1255\n",
      "\n",
      "    accuracy                           0.93      2211\n",
      "   macro avg       0.93      0.93      0.93      2211\n",
      "weighted avg       0.93      0.93      0.93      2211\n",
      "\n",
      "\n",
      "Confusion Matrix:\n",
      " [[ 878   78]\n",
      " [  81 1174]]\n"
     ]
    }
   ],
   "source": [
    "set_experiment(f\"grid_search_{dataset}\")\n",
    "\n",
    "with mlflow.start_run(run_name=f\"HPO_{hpo_run_count}_DT\"):\n",
    "    hpo_run_count += 1\n",
    "    mlflow.log_param(\"model\", \"DecisionTreeClassifier\")\n",
    "\n",
    "    X_filter = filter(dataset)\n",
    "\n",
    "    X_train, X_test, y_train, y_test = train_test_split(X_filter, y, test_size=0.2, random_state=42)\n",
    "\n",
    "    mlflow.log_param(\"dataset\", dataset)\n",
    "    \n",
    "    grid_search.fit(X_train, y_train)\n",
    "\n",
    "    best_params = grid_search.best_params_\n",
    "    for param, value in best_params.items():\n",
    "        mlflow.log_param(param, value)\n",
    "    \n",
    "    best_score = grid_search.best_score_\n",
    "    mlflow.log_metric(\"best_accuracy\", best_score)\n",
    "\n",
    "    best_model = grid_search.best_estimator_\n",
    "\n",
    "    y_pred = best_model.predict(X_test)\n",
    "\n",
    "    accuracy = accuracy_score(y_test, y_pred)\n",
    "    precision = precision_score(y_test, y_pred)\n",
    "    recall = recall_score(y_test, y_pred)\n",
    "    f1 = f1_score(y_test, y_pred)\n",
    "\n",
    "    mlflow.log_metric(\"test_accuracy\", accuracy)\n",
    "    mlflow.log_metric(\"test_precision\", precision)\n",
    "    mlflow.log_metric(\"test_recall\", recall)\n",
    "    mlflow.log_metric(\"test_f1\", f1)\n",
    "\n",
    "    class_report = classification_report(y_test, y_pred)\n",
    "    mlflow.log_param(\"classification_report\", class_report)\n",
    "\n",
    "    cm = confusion_matrix(y_test, y_pred)\n",
    "\n",
    "    plt.figure(figsize=(6, 5))\n",
    "    sns.heatmap(cm, annot=True, fmt='g', cmap='Blues', xticklabels=[\"Class 0\", \"Class 1\"], yticklabels=[\"Class 0\", \"Class 1\"])\n",
    "    plt.title('Confusion Matrix')\n",
    "    plt.xlabel('Predicted')\n",
    "    plt.ylabel('Actual')\n",
    "    \n",
    "    cm_image_path = \"./images/confusion_matrix.png\"\n",
    "    plt.savefig(cm_image_path)\n",
    "    plt.close()\n",
    "\n",
    "    mlflow.log_artifact(cm_image_path, \"confusion_matrix\")\n",
    "\n",
    "    mlflow.sklearn.log_model(best_model, \"model\")\n",
    "\n",
    "    print(\"Best parameters found: \", best_params)\n",
    "    print(\"Best cross-validation accuracy: {:.4f}\".format(best_score))\n",
    "    print(\"Test Accuracy: {:.4f}\".format(accuracy))\n",
    "    print(\"Test Precision: {:.4f}\".format(precision))\n",
    "    print(\"Test Recall: {:.4f}\".format(recall))\n",
    "    print(\"Test F1-Score: {:.4f}\".format(f1))\n",
    "    print(\"\\nClassification Report:\\n\", class_report)\n",
    "    print(\"\\nConfusion Matrix:\\n\", cm)\n",
    "\n",
    "    if dataset == \"IG\":\n",
    "        IG_parameters = best_params\n",
    "    elif dataset == \"composite\":\n",
    "        Composite_parameters = best_params"
   ]
  },
  {
   "cell_type": "markdown",
   "metadata": {},
   "source": [
    "# Kfold Cross Validation"
   ]
  },
  {
   "cell_type": "code",
   "execution_count": 21,
   "metadata": {},
   "outputs": [],
   "source": [
    "best_params = None\n",
    "if dataset == \"IG\":\n",
    "    best_params = IG_parameters\n",
    "elif dataset == \"composite\":\n",
    "    best_params = Composite_parameters"
   ]
  },
  {
   "cell_type": "code",
   "execution_count": 22,
   "metadata": {},
   "outputs": [
    {
     "name": "stderr",
     "output_type": "stream",
     "text": [
      "2024/11/15 07:26:12 WARNING mlflow.models.model: Model logged without a signature and input example. Please set `input_example` parameter when logging the model to auto infer the model signature.\n"
     ]
    }
   ],
   "source": [
    "set_experiment(f\"kfold_cross_validation_{dataset}\")\n",
    "cv = StratifiedKFold(n_splits=5, shuffle=True, random_state=42)\n",
    "train_metric_data = []\n",
    "metric_data = []\n",
    "with mlflow.start_run(run_name=f\"KFC_{kfc_run_count}_DT\"):\n",
    "    kfc_run_count += 1\n",
    "    mlflow.log_param(\"model\", \"DecisionTreeClassifier\")\n",
    "    mlflow.log_param(\"cross_validation\", \"StratifiedKFold\")\n",
    "    mlflow.log_param(\"dataset\", dataset)\n",
    "    \n",
    "    for param, value in best_params.items():\n",
    "        mlflow.log_param(param, value)\n",
    "\n",
    "    best_model = None\n",
    "    best_accuracy = 0\n",
    "\n",
    "    X_filter = filter(dataset)\n",
    "\n",
    "    for i, (train_index, test_index) in enumerate(cv.split(X_filter, y)):\n",
    "        X_train, X_test = X_filter.iloc[train_index], X_filter.iloc[test_index]\n",
    "        y_train, y_test = y.iloc[train_index], y.iloc[test_index]\n",
    "\n",
    "        model = DecisionTreeClassifier(random_state=21, **best_params)\n",
    "        start_train_time = time.time()\n",
    "        model.fit(X_train, y_train)\n",
    "        end_train_time = time.time()\n",
    "\n",
    "        mlflow.log_metric(f\"train_time_{i}\", end_train_time - start_train_time)\n",
    "\n",
    "        y_pred = model.predict(X_train)\n",
    "        train_accuracy = accuracy_score(y_train, y_pred)\n",
    "        train_precision = precision_score(y_train, y_pred)\n",
    "        train_recall = recall_score(y_train, y_pred)\n",
    "        train_f1 = f1_score(y_train, y_pred)\n",
    "\n",
    "        mlflow.log_metric(f\"train_accuracy_{i}\", train_accuracy)\n",
    "        mlflow.log_metric(f\"train_precision_{i}\", train_precision)\n",
    "        mlflow.log_metric(f\"train_recall_{i}\", train_recall)\n",
    "        mlflow.log_metric(f\"train_f1_{i}\", train_f1)\n",
    "\n",
    "        train_metric_data.append([train_accuracy, train_precision, train_recall, train_f1, end_train_time - start_train_time])\n",
    "\n",
    "        start_test_time = time.time()\n",
    "        y_pred = model.predict(X_test)\n",
    "        end_test_time = time.time()\n",
    "\n",
    "        mlflow.log_metric(f\"test_time_{i}\", end_test_time - start_test_time)\n",
    "\n",
    "        accuracy = accuracy_score(y_test, y_pred)\n",
    "        precision = precision_score(y_test, y_pred)\n",
    "        recall = recall_score(y_test, y_pred)\n",
    "        f1 = f1_score(y_test, y_pred)\n",
    "\n",
    "        mlflow.log_metric(f\"test_accuracy_{i}\", accuracy)\n",
    "        mlflow.log_metric(f\"test_precision_{i}\", precision)\n",
    "        mlflow.log_metric(f\"test_recall_{i}\", recall)\n",
    "        mlflow.log_metric(f\"test_f1_{i}\", f1)\n",
    "\n",
    "        if accuracy > best_accuracy:\n",
    "            best_accuracy = accuracy\n",
    "            best_model = model\n",
    "\n",
    "        metric_data.append([accuracy, precision, recall, f1, end_test_time - start_test_time])\n",
    "\n",
    "    mlflow.sklearn.log_model(best_model, \"model\")\n",
    "\n",
    "    train_metric_data = np.array(train_metric_data)\n",
    "    mean = np.mean(train_metric_data, axis=0)\n",
    "    std = np.std(train_metric_data, axis=0)\n",
    "\n",
    "    mlflow.log_metric(\"train_mean_accuracy\", mean[0])\n",
    "    mlflow.log_metric(\"train_mean_precision\", mean[1])\n",
    "    mlflow.log_metric(\"train_mean_recall\", mean[2])\n",
    "    mlflow.log_metric(\"train_mean_f1\", mean[3])\n",
    "    mlflow.log_metric(\"train_mean_time\", mean[4])\n",
    "\n",
    "    mlflow.log_metric(\"train_std_accuracy\", std[0])\n",
    "    mlflow.log_metric(\"train_std_precision\", std[1])\n",
    "    mlflow.log_metric(\"train_std_recall\", std[2])\n",
    "    mlflow.log_metric(\"train_std_f1\", std[3])\n",
    "    mlflow.log_metric(\"train_std_time\", std[4])\n",
    "\n",
    "    metric_data = np.array(metric_data)\n",
    "    mean = np.mean(metric_data, axis=0)\n",
    "    std = np.std(metric_data, axis=0)\n",
    "\n",
    "    mlflow.log_metric(\"test_mean_accuracy\", mean[0])\n",
    "    mlflow.log_metric(\"test_mean_precision\", mean[1])\n",
    "    mlflow.log_metric(\"test_mean_recall\", mean[2])\n",
    "    mlflow.log_metric(\"mean_f1\", mean[3])\n",
    "    mlflow.log_metric(\"test_mean_time\", mean[4])\n",
    "\n",
    "    mlflow.log_metric(\"test_std_accuracy\", std[0])\n",
    "    mlflow.log_metric(\"test_std_precision\", std[1])\n",
    "    mlflow.log_metric(\"test_std_recall\", std[2])\n",
    "    mlflow.log_metric(\"test_std_f1\", std[3])\n",
    "    mlflow.log_metric(\"test_std_time\", std[4])"
   ]
  },
  {
   "cell_type": "markdown",
   "metadata": {},
   "source": [
    "# Summary"
   ]
  },
  {
   "cell_type": "code",
   "execution_count": 23,
   "metadata": {},
   "outputs": [
    {
     "name": "stdout",
     "output_type": "stream",
     "text": [
      "╒═══════════╤══════════════╤═════════════╤═════════════╤════════════╕\n",
      "│ Metric    │   Train Mean │   Train Std │   Test Mean │   Test Std │\n",
      "╞═══════════╪══════════════╪═════════════╪═════════════╪════════════╡\n",
      "│ Accuracy  │       0.9743 │      0.0007 │      0.9332 │     0.0060 │\n",
      "├───────────┼──────────────┼─────────────┼─────────────┼────────────┤\n",
      "│ Precision │       0.9774 │      0.0014 │      0.9399 │     0.0082 │\n",
      "├───────────┼──────────────┼─────────────┼─────────────┼────────────┤\n",
      "│ Recall    │       0.9765 │      0.0018 │      0.9404 │     0.0118 │\n",
      "├───────────┼──────────────┼─────────────┼─────────────┼────────────┤\n",
      "│ F1 Score  │       0.9769 │      0.0007 │      0.9401 │     0.0055 │\n",
      "├───────────┼──────────────┼─────────────┼─────────────┼────────────┤\n",
      "│ Time (s)  │       0.0090 │      0.0047 │      0.0040 │     0.0070 │\n",
      "╘═══════════╧══════════════╧═════════════╧═════════════╧════════════╛\n"
     ]
    }
   ],
   "source": [
    "train_metric_data = np.array(train_metric_data)\n",
    "train_mean = np.mean(train_metric_data, axis=0)\n",
    "train_std = np.std(train_metric_data, axis=0)\n",
    "\n",
    "train_mean_accuracy, train_mean_precision, train_mean_recall, train_mean_f1, train_mean_time = train_mean\n",
    "train_std_accuracy, train_std_precision, train_std_recall, train_std_f1, train_std_time = train_std\n",
    "\n",
    "metric_data = np.array(metric_data)\n",
    "test_mean = np.mean(metric_data, axis=0)\n",
    "test_std = np.std(metric_data, axis=0)\n",
    "\n",
    "test_mean_accuracy, test_mean_precision, test_mean_recall, test_mean_f1, test_mean_time = test_mean\n",
    "test_std_accuracy, test_std_precision, test_std_recall, test_std_f1, test_std_time = test_std\n",
    "\n",
    "headers = [\"Metric\", \"Train Mean\", \"Train Std\", \"Test Mean\", \"Test Std\"]\n",
    "table_data = [\n",
    "    [\"Accuracy\", train_mean_accuracy, train_std_accuracy, test_mean_accuracy, test_std_accuracy],\n",
    "    [\"Precision\", train_mean_precision, train_std_precision, test_mean_precision, test_std_precision],\n",
    "    [\"Recall\", train_mean_recall, train_std_recall, test_mean_recall, test_std_recall],\n",
    "    [\"F1 Score\", train_mean_f1, train_std_f1, test_mean_f1, test_std_f1],\n",
    "    [\"Time (s)\", train_mean_time, train_std_time, test_mean_time, test_std_time]\n",
    "]\n",
    "\n",
    "fancy_table = tabulate(table_data, headers=headers, tablefmt=\"fancy_grid\", floatfmt=\".4f\")\n",
    "\n",
    "print(fancy_table)"
   ]
  }
 ],
 "metadata": {
  "kernelspec": {
   "display_name": "781-project-_wk9diy5-py3.11",
   "language": "python",
   "name": "python3"
  },
  "language_info": {
   "codemirror_mode": {
    "name": "ipython",
    "version": 3
   },
   "file_extension": ".py",
   "mimetype": "text/x-python",
   "name": "python",
   "nbconvert_exporter": "python",
   "pygments_lexer": "ipython3",
   "version": "3.11.2"
  }
 },
 "nbformat": 4,
 "nbformat_minor": 2
}
