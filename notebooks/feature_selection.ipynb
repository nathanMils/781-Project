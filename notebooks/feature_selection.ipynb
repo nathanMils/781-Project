{
 "cells": [
  {
   "cell_type": "markdown",
   "metadata": {},
   "source": [
    "# Feature Selection\n",
    "## Utilizing Information Gain (IG)"
   ]
  },
  {
   "cell_type": "code",
   "execution_count": null,
   "metadata": {},
   "outputs": [],
   "source": [
    "import pandas as pd\n",
    "from sklearn.feature_selection import SelectKBest\n",
    "from sklearn.feature_selection import mutual_info_classif\n",
    "from sklearn.model_selection import train_test_split\n",
    "from ucimlrepo import fetch_ucirepo"
   ]
  },
  {
   "cell_type": "code",
   "execution_count": null,
   "metadata": {},
   "outputs": [],
   "source": [
    "def fetch_data():\n",
    "    phishing_websites = fetch_ucirepo(id=327) \n",
    "    \n",
    "    X = phishing_websites.data.features \n",
    "    y = phishing_websites.data.targets \n",
    "\n",
    "    return pd.concat([X, y], axis=1)"
   ]
  }
 ],
 "metadata": {
  "kernelspec": {
   "display_name": "781-project-_wk9diy5-py3.11",
   "language": "python",
   "name": "python3"
  },
  "language_info": {
   "name": "python",
   "version": "3.11.2"
  }
 },
 "nbformat": 4,
 "nbformat_minor": 2
}
