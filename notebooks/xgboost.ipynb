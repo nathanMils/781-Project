{
 "cells": [
  {
   "cell_type": "markdown",
   "metadata": {},
   "source": [
    "# XGBoost"
   ]
  },
  {
   "cell_type": "code",
   "execution_count": 51,
   "metadata": {},
   "outputs": [],
   "source": [
    "import pandas as pd\n",
    "import numpy as np\n",
    "from ucimlrepo import fetch_ucirepo"
   ]
  },
  {
   "cell_type": "code",
   "execution_count": 52,
   "metadata": {},
   "outputs": [],
   "source": [
    "df_final = pd.read_csv('../data/processed/final.csv')\n",
    "X = df_final.drop('result', axis=1)\n",
    "y = df_final['result']"
   ]
  },
  {
   "cell_type": "markdown",
   "metadata": {},
   "source": [
    "# MLFlow"
   ]
  },
  {
   "cell_type": "code",
   "execution_count": 53,
   "metadata": {},
   "outputs": [],
   "source": [
    "import mlflow\n",
    "import mlflow.sklearn\n",
    "from pathlib import Path"
   ]
  },
  {
   "cell_type": "code",
   "execution_count": 54,
   "metadata": {},
   "outputs": [],
   "source": [
    "MLFLOW_DIR = Path(\"../mlruns\").resolve()\n",
    "ARTIFACTS_DIR = Path(\"../configs/models\").resolve()\n",
    "mlflow.set_tracking_uri(f\"file:///{str(MLFLOW_DIR)}\")"
   ]
  },
  {
   "cell_type": "code",
   "execution_count": 55,
   "metadata": {},
   "outputs": [],
   "source": [
    "BASE_EXPERIMENT_NAME = \"XGBoost\"\n",
    "mlflow.set_tracking_uri(\"../mlruns\")\n",
    "\n",
    "def set_experiment(experiment_name):\n",
    "    experiment_name = f\"{BASE_EXPERIMENT_NAME}_{experiment_name}\"\n",
    "    mlflow.set_experiment(experiment_name)\n",
    "\n",
    "def create_experiment(experiment_name):\n",
    "    experiment_name = f\"{BASE_EXPERIMENT_NAME}_{experiment_name}\"\n",
    "    mlflow.create_experiment(experiment_name, artifact_location=f\"file:///{str(ARTIFACTS_DIR)}\")"
   ]
  },
  {
   "cell_type": "code",
   "execution_count": 56,
   "metadata": {},
   "outputs": [],
   "source": [
    "def delete_experiment(experiment_name):\n",
    "    experiment_name = f\"{BASE_EXPERIMENT_NAME}_{experiment_name}\"\n",
    "    mlflow.delete_experiment(mlflow.get_experiment_by_name(experiment_name).experiment_id)"
   ]
  },
  {
   "cell_type": "markdown",
   "metadata": {},
   "source": [
    "## Hyperparameter Tuning Libraries"
   ]
  },
  {
   "cell_type": "code",
   "execution_count": 57,
   "metadata": {},
   "outputs": [],
   "source": [
    "from sklearn.model_selection import train_test_split\n",
    "from sklearn.model_selection import GridSearchCV, StratifiedKFold\n",
    "from sklearn.metrics import accuracy_score, precision_score, recall_score, f1_score, classification_report, confusion_matrix\n",
    "import xgboost as xgb\n",
    "from xgboost import plot_tree\n",
    "import time"
   ]
  },
  {
   "cell_type": "code",
   "execution_count": 58,
   "metadata": {},
   "outputs": [],
   "source": [
    "hpo_run_count = 5\n",
    "kfc_run_count = 5"
   ]
  },
  {
   "cell_type": "code",
   "execution_count": 59,
   "metadata": {},
   "outputs": [],
   "source": [
    "model = xgb.XGBClassifier(use_label_encoder=False, eval_metric='mlogloss')\n",
    "cv = StratifiedKFold(n_splits=5, shuffle=True, random_state=21)"
   ]
  },
  {
   "cell_type": "code",
   "execution_count": 60,
   "metadata": {},
   "outputs": [],
   "source": [
    "# Heavy focus on preventing overfitting\n",
    "param_grid = {\n",
    "    'max_depth': [3, 4, 5, 8],  # Smaller depth to reduce overfitting\n",
    "    'learning_rate': [0.01, 0.05, 0.1],  # Low learning rates help avoid overfitting\n",
    "    'n_estimators': [50, 100, 150],  # Fewer trees to prevent overfitting\n",
    "    'subsample': [0.7, 0.8, 0.9],  # Regularization to prevent overfitting\n",
    "    'colsample_bytree': [0.7, 0.8, 1.0],  # Fraction of features to use for each tree\n",
    "    'gamma': [0, 0.05, 0.1],  # Regularization to control tree splitting\n",
    "    'scale_pos_weight': [1, 2, 3],  # Helps if the dataset is imbalanced\n",
    "    'min_child_weight': [1, 3, 5]  # Ensures trees are not too deep (reduces overfitting)\n",
    "}\n",
    "grid_search = GridSearchCV(estimator=model, param_grid=param_grid, cv=cv, scoring='f1', n_jobs=-1, verbose=1)"
   ]
  },
  {
   "cell_type": "code",
   "execution_count": 61,
   "metadata": {},
   "outputs": [],
   "source": [
    "import matplotlib.pyplot as plt\n",
    "import seaborn as sns\n",
    "from tabulate import tabulate"
   ]
  },
  {
   "cell_type": "code",
   "execution_count": 62,
   "metadata": {},
   "outputs": [
    {
     "name": "stdout",
     "output_type": "stream",
     "text": [
      "Fitting 5 folds for each of 8748 candidates, totalling 43740 fits\n"
     ]
    },
    {
     "name": "stderr",
     "output_type": "stream",
     "text": [
      "c:\\Users\\natei\\AppData\\Local\\pypoetry\\Cache\\virtualenvs\\781-project-_wk9diy5-py3.11\\Lib\\site-packages\\xgboost\\core.py:158: UserWarning: [16:33:40] WARNING: C:\\buildkite-agent\\builds\\buildkite-windows-cpu-autoscaling-group-i-0ed59c031377d09b8-1\\xgboost\\xgboost-ci-windows\\src\\learner.cc:740: \n",
      "Parameters: { \"use_label_encoder\" } are not used.\n",
      "\n",
      "  warnings.warn(smsg, UserWarning)\n",
      "2024/11/20 16:33:43 WARNING mlflow.models.model: Model logged without a signature and input example. Please set `input_example` parameter when logging the model to auto infer the model signature.\n"
     ]
    },
    {
     "name": "stdout",
     "output_type": "stream",
     "text": [
      "Best parameters found:  {'colsample_bytree': 0.8, 'gamma': 0.1, 'learning_rate': 0.1, 'max_depth': 8, 'min_child_weight': 1, 'n_estimators': 100, 'scale_pos_weight': 3, 'subsample': 0.9}\n",
      "Best cross-validation accuracy: 0.9786\n",
      "Test Accuracy: 0.9816\n",
      "Test Precision: 0.9778\n",
      "Test Recall: 0.9851\n",
      "Test F1-Score: 0.9815\n",
      "\n",
      "Classification Report:\n",
      "               precision    recall  f1-score   support\n",
      "\n",
      "           0       0.99      0.98      0.98       412\n",
      "           1       0.98      0.99      0.98       403\n",
      "\n",
      "    accuracy                           0.98       815\n",
      "   macro avg       0.98      0.98      0.98       815\n",
      "weighted avg       0.98      0.98      0.98       815\n",
      "\n",
      "\n",
      "Confusion Matrix:\n",
      " [[403   9]\n",
      " [  6 397]]\n"
     ]
    }
   ],
   "source": [
    "set_experiment(\"GRID_SEARCH\")\n",
    "\n",
    "with mlflow.start_run(run_name=f\"HPO_{hpo_run_count}_XGB\"):\n",
    "    hpo_run_count += 1\n",
    "    mlflow.log_param(\"model\", \"XGBoost\")\n",
    "\n",
    "    X_train, X_test, y_train, y_test = train_test_split(X, y, test_size=0.2, random_state=42)\n",
    "\n",
    "    y_train = y_train.replace(-1, 0)\n",
    "    y_test = y_test.replace(-1, 0)\n",
    "    \n",
    "    grid_search.fit(X_train, y_train)\n",
    "\n",
    "    best_params = grid_search.best_params_\n",
    "    for param, value in best_params.items():\n",
    "        mlflow.log_param(param, value)\n",
    "    \n",
    "    best_score = grid_search.best_score_\n",
    "    mlflow.log_metric(\"best_accuracy\", best_score)\n",
    "\n",
    "    best_model = grid_search.best_estimator_\n",
    "\n",
    "    y_pred = best_model.predict(X_test)\n",
    "\n",
    "    accuracy = accuracy_score(y_test, y_pred)\n",
    "    precision = precision_score(y_test, y_pred)\n",
    "    recall = recall_score(y_test, y_pred)\n",
    "    f1 = f1_score(y_test, y_pred)\n",
    "\n",
    "    mlflow.log_metric(\"test_accuracy\", accuracy)\n",
    "    mlflow.log_metric(\"test_precision\", precision)\n",
    "    mlflow.log_metric(\"test_recall\", recall)\n",
    "    mlflow.log_metric(\"test_f1\", f1)\n",
    "\n",
    "    class_report = classification_report(y_test, y_pred)\n",
    "    mlflow.log_param(\"classification_report\", class_report)\n",
    "\n",
    "    cm = confusion_matrix(y_test, y_pred)\n",
    "\n",
    "    plt.figure(figsize=(6, 5))\n",
    "    sns.heatmap(cm, annot=True, fmt='g', cmap='Blues', xticklabels=[\"Class 0\", \"Class 1\"], yticklabels=[\"Class 0\", \"Class 1\"])\n",
    "    plt.title('Confusion Matrix')\n",
    "    plt.xlabel('Predicted')\n",
    "    plt.ylabel('Actual')\n",
    "    \n",
    "    cm_image_path = \"./images/confusion_matrix.png\"\n",
    "    plt.savefig(cm_image_path)\n",
    "    plt.close()\n",
    "\n",
    "    mlflow.log_artifact(cm_image_path, \"confusion_matrix\")\n",
    "\n",
    "    mlflow.sklearn.log_model(best_model, \"model\")\n",
    "\n",
    "    print(\"Best parameters found: \", best_params)\n",
    "    print(\"Best cross-validation accuracy: {:.4f}\".format(best_score))\n",
    "    print(\"Test Accuracy: {:.4f}\".format(accuracy))\n",
    "    print(\"Test Precision: {:.4f}\".format(precision))\n",
    "    print(\"Test Recall: {:.4f}\".format(recall))\n",
    "    print(\"Test F1-Score: {:.4f}\".format(f1))\n",
    "    print(\"\\nClassification Report:\\n\", class_report)\n",
    "    print(\"\\nConfusion Matrix:\\n\", cm)"
   ]
  },
  {
   "cell_type": "markdown",
   "metadata": {},
   "source": [
    "# Kfold Cross Validation"
   ]
  },
  {
   "cell_type": "code",
   "execution_count": 63,
   "metadata": {},
   "outputs": [],
   "source": [
    "best_params = grid_search.best_params_"
   ]
  },
  {
   "cell_type": "code",
   "execution_count": 64,
   "metadata": {},
   "outputs": [
    {
     "name": "stderr",
     "output_type": "stream",
     "text": [
      "c:\\Users\\natei\\AppData\\Local\\pypoetry\\Cache\\virtualenvs\\781-project-_wk9diy5-py3.11\\Lib\\site-packages\\xgboost\\core.py:158: UserWarning: [16:33:44] WARNING: C:\\buildkite-agent\\builds\\buildkite-windows-cpu-autoscaling-group-i-0ed59c031377d09b8-1\\xgboost\\xgboost-ci-windows\\src\\learner.cc:740: \n",
      "Parameters: { \"use_label_encoder\" } are not used.\n",
      "\n",
      "  warnings.warn(smsg, UserWarning)\n",
      "c:\\Users\\natei\\AppData\\Local\\pypoetry\\Cache\\virtualenvs\\781-project-_wk9diy5-py3.11\\Lib\\site-packages\\xgboost\\core.py:158: UserWarning: [16:33:44] WARNING: C:\\buildkite-agent\\builds\\buildkite-windows-cpu-autoscaling-group-i-0ed59c031377d09b8-1\\xgboost\\xgboost-ci-windows\\src\\learner.cc:740: \n",
      "Parameters: { \"use_label_encoder\" } are not used.\n",
      "\n",
      "  warnings.warn(smsg, UserWarning)\n",
      "c:\\Users\\natei\\AppData\\Local\\pypoetry\\Cache\\virtualenvs\\781-project-_wk9diy5-py3.11\\Lib\\site-packages\\xgboost\\core.py:158: UserWarning: [16:33:44] WARNING: C:\\buildkite-agent\\builds\\buildkite-windows-cpu-autoscaling-group-i-0ed59c031377d09b8-1\\xgboost\\xgboost-ci-windows\\src\\learner.cc:740: \n",
      "Parameters: { \"use_label_encoder\" } are not used.\n",
      "\n",
      "  warnings.warn(smsg, UserWarning)\n",
      "c:\\Users\\natei\\AppData\\Local\\pypoetry\\Cache\\virtualenvs\\781-project-_wk9diy5-py3.11\\Lib\\site-packages\\xgboost\\core.py:158: UserWarning: [16:33:45] WARNING: C:\\buildkite-agent\\builds\\buildkite-windows-cpu-autoscaling-group-i-0ed59c031377d09b8-1\\xgboost\\xgboost-ci-windows\\src\\learner.cc:740: \n",
      "Parameters: { \"use_label_encoder\" } are not used.\n",
      "\n",
      "  warnings.warn(smsg, UserWarning)\n",
      "c:\\Users\\natei\\AppData\\Local\\pypoetry\\Cache\\virtualenvs\\781-project-_wk9diy5-py3.11\\Lib\\site-packages\\xgboost\\core.py:158: UserWarning: [16:33:45] WARNING: C:\\buildkite-agent\\builds\\buildkite-windows-cpu-autoscaling-group-i-0ed59c031377d09b8-1\\xgboost\\xgboost-ci-windows\\src\\learner.cc:740: \n",
      "Parameters: { \"use_label_encoder\" } are not used.\n",
      "\n",
      "  warnings.warn(smsg, UserWarning)\n",
      "2024/11/20 16:33:49 WARNING mlflow.models.model: Model logged without a signature and input example. Please set `input_example` parameter when logging the model to auto infer the model signature.\n"
     ]
    }
   ],
   "source": [
    "set_experiment(\"K_FOLD\")\n",
    "cv = StratifiedKFold(n_splits=5, shuffle=True, random_state=42)\n",
    "train_metric_data = []\n",
    "metric_data = []\n",
    "with mlflow.start_run(run_name=f\"KFC_{kfc_run_count}_XGB\"):\n",
    "    kfc_run_count += 1\n",
    "    mlflow.log_param(\"model\", \"XGBoost\")\n",
    "    mlflow.log_param(\"cross_validation\", \"StratifiedKFold\")\n",
    "    \n",
    "    for param, value in best_params.items():\n",
    "        mlflow.log_param(param, value)\n",
    "\n",
    "    best_model = None\n",
    "    best_accuracy = 0\n",
    "\n",
    "    for i, (train_index, test_index) in enumerate(cv.split(X, y)):\n",
    "\n",
    "        X_train, X_test = X.iloc[train_index], X.iloc[test_index]\n",
    "        y_train, y_test = y.iloc[train_index], y.iloc[test_index]\n",
    "\n",
    "        y_train = y_train.replace(-1, 0)\n",
    "        y_test = y_test.replace(-1, 0)\n",
    "\n",
    "        model = xgb.XGBClassifier(use_label_encoder=False, eval_metric='mlogloss', **best_params)\n",
    "        start_train_time = time.time()\n",
    "        model.fit(X_train, y_train)\n",
    "        end_train_time = time.time()\n",
    "\n",
    "        mlflow.log_metric(f\"training_time_{i}\", end_train_time - start_train_time)\n",
    "\n",
    "        y_pred = model.predict(X_train)\n",
    "        train_accuracy = accuracy_score(y_train, y_pred)\n",
    "        train_precision = precision_score(y_train, y_pred)\n",
    "        train_recall = recall_score(y_train, y_pred)\n",
    "        train_f1 = f1_score(y_train, y_pred)\n",
    "\n",
    "        mlflow.log_metric(f\"train_accuracy_{i}\", train_accuracy)\n",
    "        mlflow.log_metric(f\"train_precision_{i}\", train_precision)\n",
    "        mlflow.log_metric(f\"train_recall_{i}\", train_recall)\n",
    "        mlflow.log_metric(f\"train_f1_{i}\", train_f1)\n",
    "\n",
    "        train_metric_data.append([train_accuracy, train_precision, train_recall, train_f1, end_train_time - start_train_time])\n",
    "\n",
    "        start_test_time = time.time()\n",
    "        y_pred = model.predict(X_test)\n",
    "        end_test_time = time.time()\n",
    "\n",
    "        mlflow.log_metric(f\"testing_time_{i}\", end_test_time - start_test_time)\n",
    "\n",
    "        accuracy = accuracy_score(y_test, y_pred)\n",
    "        precision = precision_score(y_test, y_pred)\n",
    "        recall = recall_score(y_test, y_pred)\n",
    "        f1 = f1_score(y_test, y_pred)\n",
    "\n",
    "        mlflow.log_metric(f\"test_accuracy_{i}\", accuracy)\n",
    "        mlflow.log_metric(f\"test_precision_{i}\", precision)\n",
    "        mlflow.log_metric(f\"test_recall_{i}\", recall)\n",
    "        mlflow.log_metric(f\"test_f1_{i}\", f1)\n",
    "\n",
    "        if accuracy > best_accuracy:\n",
    "            best_accuracy = accuracy\n",
    "            best_model = model\n",
    "\n",
    "        metric_data.append([accuracy, precision, recall, f1, end_test_time - start_test_time])\n",
    "\n",
    "    mlflow.sklearn.log_model(best_model, \"model\")\n",
    "\n",
    "    train_metric_data = np.array(train_metric_data)\n",
    "    mean = np.mean(train_metric_data, axis=0)\n",
    "    std = np.std(train_metric_data, axis=0)\n",
    "\n",
    "    mlflow.log_metric(\"train_mean_accuracy\", mean[0])\n",
    "    mlflow.log_metric(\"train_mean_precision\", mean[1])\n",
    "    mlflow.log_metric(\"train_mean_recall\", mean[2])\n",
    "    mlflow.log_metric(\"train_mean_f1\", mean[3])\n",
    "    mlflow.log_metric(\"train_mean_time\", mean[4])\n",
    "\n",
    "    mlflow.log_metric(\"train_std_accuracy\", std[0])\n",
    "    mlflow.log_metric(\"train_std_precision\", std[1])\n",
    "    mlflow.log_metric(\"train_std_recall\", std[2])\n",
    "    mlflow.log_metric(\"train_std_f1\", std[3])\n",
    "    mlflow.log_metric(\"train_std_time\", std[4])\n",
    "\n",
    "    metric_data = np.array(metric_data)\n",
    "    mean = np.mean(metric_data, axis=0)\n",
    "    std = np.std(metric_data, axis=0)\n",
    "\n",
    "    mlflow.log_metric(\"test_mean_accuracy\", mean[0])\n",
    "    mlflow.log_metric(\"test_mean_precision\", mean[1])\n",
    "    mlflow.log_metric(\"test_mean_recall\", mean[2])\n",
    "    mlflow.log_metric(\"mean_f1\", mean[3])\n",
    "    mlflow.log_metric(\"test_mean_time\", mean[4])\n",
    "\n",
    "    mlflow.log_metric(\"test_std_accuracy\", std[0])\n",
    "    mlflow.log_metric(\"test_std_precision\", std[1])\n",
    "    mlflow.log_metric(\"test_std_recall\", std[2])\n",
    "    mlflow.log_metric(\"test_std_f1\", std[3])\n",
    "    mlflow.log_metric(\"test_std_time\", std[4])"
   ]
  },
  {
   "cell_type": "markdown",
   "metadata": {},
   "source": [
    "## Summary"
   ]
  },
  {
   "cell_type": "code",
   "execution_count": 65,
   "metadata": {},
   "outputs": [
    {
     "name": "stdout",
     "output_type": "stream",
     "text": [
      "╒═══════════╤══════════════╤═════════════╤═════════════╤════════════╕\n",
      "│ Metric    │   Train Mean │   Train Std │   Test Mean │   Test Std │\n",
      "╞═══════════╪══════════════╪═════════════╪═════════════╪════════════╡\n",
      "│ Accuracy  │       0.9941 │      0.0014 │      0.9779 │     0.0036 │\n",
      "├───────────┼──────────────┼─────────────┼─────────────┼────────────┤\n",
      "│ Precision │       0.9879 │      0.0029 │      0.9680 │     0.0035 │\n",
      "├───────────┼──────────────┼─────────────┼─────────────┼────────────┤\n",
      "│ Recall    │       1.0000 │      0.0000 │      0.9868 │     0.0086 │\n",
      "├───────────┼──────────────┼─────────────┼─────────────┼────────────┤\n",
      "│ F1 Score  │       0.9939 │      0.0015 │      0.9773 │     0.0037 │\n",
      "├───────────┼──────────────┼─────────────┼─────────────┼────────────┤\n",
      "│ Time (s)  │       0.1754 │      0.0318 │      0.0151 │     0.0053 │\n",
      "╘═══════════╧══════════════╧═════════════╧═════════════╧════════════╛\n"
     ]
    }
   ],
   "source": [
    "train_metric_data = np.array(train_metric_data)\n",
    "train_mean = np.mean(train_metric_data, axis=0)\n",
    "train_std = np.std(train_metric_data, axis=0)\n",
    "\n",
    "train_mean_accuracy, train_mean_precision, train_mean_recall, train_mean_f1, train_mean_time = train_mean\n",
    "train_std_accuracy, train_std_precision, train_std_recall, train_std_f1, train_std_time = train_std\n",
    "\n",
    "metric_data = np.array(metric_data)\n",
    "test_mean = np.mean(metric_data, axis=0)\n",
    "test_std = np.std(metric_data, axis=0)\n",
    "\n",
    "test_mean_accuracy, test_mean_precision, test_mean_recall, test_mean_f1, test_mean_time = test_mean\n",
    "test_std_accuracy, test_std_precision, test_std_recall, test_std_f1, test_std_time = test_std\n",
    "\n",
    "headers = [\"Metric\", \"Train Mean\", \"Train Std\", \"Test Mean\", \"Test Std\"]\n",
    "table_data = [\n",
    "    [\"Accuracy\", train_mean_accuracy, train_std_accuracy, test_mean_accuracy, test_std_accuracy],\n",
    "    [\"Precision\", train_mean_precision, train_std_precision, test_mean_precision, test_std_precision],\n",
    "    [\"Recall\", train_mean_recall, train_std_recall, test_mean_recall, test_std_recall],\n",
    "    [\"F1 Score\", train_mean_f1, train_std_f1, test_mean_f1, test_std_f1],\n",
    "    [\"Time (s)\", train_mean_time, train_std_time, test_mean_time, test_std_time]\n",
    "]\n",
    "\n",
    "fancy_table = tabulate(table_data, headers=headers, tablefmt=\"fancy_grid\", floatfmt=\".4f\")\n",
    "\n",
    "print(fancy_table)"
   ]
  },
  {
   "cell_type": "code",
   "execution_count": 66,
   "metadata": {},
   "outputs": [
    {
     "name": "stdout",
     "output_type": "stream",
     "text": [
      "              precision    recall  f1-score   support\n",
      "\n",
      "           0       1.00      0.97      0.98       422\n",
      "           1       0.97      1.00      0.98       392\n",
      "\n",
      "    accuracy                           0.98       814\n",
      "   macro avg       0.98      0.98      0.98       814\n",
      "weighted avg       0.98      0.98      0.98       814\n",
      "\n"
     ]
    }
   ],
   "source": [
    "total_test = best_model.predict(X_test)\n",
    "print(classification_report(y_test, total_test))"
   ]
  },
  {
   "cell_type": "code",
   "execution_count": 67,
   "metadata": {},
   "outputs": [
    {
     "data": {
      "text/plain": [
       "<Figure size 4000x2000 with 0 Axes>"
      ]
     },
     "metadata": {},
     "output_type": "display_data"
    }
   ],
   "source": [
    "plt.figure(figsize=(40, 20))\n",
    "plot_tree(best_model, num_trees=4)\n",
    "plt.savefig('tree_plot.png', dpi=3000, bbox_inches='tight')  # Higher DPI for clarity\n",
    "plt.close()"
   ]
  },
  {
   "cell_type": "code",
   "execution_count": 68,
   "metadata": {},
   "outputs": [
    {
     "name": "stdout",
     "output_type": "stream",
     "text": [
      "+--------------------+---------+\n",
      "| Statistic          |   Value |\n",
      "+====================+=========+\n",
      "| Number of Trees    |   100   |\n",
      "+--------------------+---------+\n",
      "| Total Nodes        |  6454   |\n",
      "+--------------------+---------+\n",
      "| Maximum Depth      |     8   |\n",
      "+--------------------+---------+\n",
      "| Learning Rate      |     0.1 |\n",
      "+--------------------+---------+\n",
      "| Number of Features |    15   |\n",
      "+--------------------+---------+\n"
     ]
    }
   ],
   "source": [
    "num_trees = best_model.get_params()['n_estimators']\n",
    "total_nodes = sum(\n",
    "    len(tree.splitlines()) - 1\n",
    "    for tree in best_model.get_booster().get_dump()\n",
    ")\n",
    "max_depth = best_model.get_params()['max_depth']\n",
    "learning_rate = best_model.get_params()['learning_rate']\n",
    "n_features = len(X.columns)\n",
    "\n",
    "# Prepare data for tabulation\n",
    "data = [\n",
    "    [\"Number of Trees\", num_trees],\n",
    "    [\"Total Nodes\", total_nodes],\n",
    "    [\"Maximum Depth\", max_depth],\n",
    "    [\"Learning Rate\", learning_rate],\n",
    "    [\"Number of Features\", n_features],\n",
    "]\n",
    "\n",
    "# Create a table\n",
    "table = tabulate(data, headers=[\"Statistic\", \"Value\"], tablefmt=\"grid\")\n",
    "print(table)"
   ]
  }
 ],
 "metadata": {
  "kernelspec": {
   "display_name": "781-project-_wk9diy5-py3.11",
   "language": "python",
   "name": "python3"
  },
  "language_info": {
   "codemirror_mode": {
    "name": "ipython",
    "version": 3
   },
   "file_extension": ".py",
   "mimetype": "text/x-python",
   "name": "python",
   "nbconvert_exporter": "python",
   "pygments_lexer": "ipython3",
   "version": "3.11.2"
  }
 },
 "nbformat": 4,
 "nbformat_minor": 2
}
